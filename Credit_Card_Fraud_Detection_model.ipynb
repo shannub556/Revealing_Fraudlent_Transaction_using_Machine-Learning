{
 "cells": [
  {
   "cell_type": "markdown",
   "metadata": {
    "id": "TDnoEQTWStTz"
   },
   "source": [
    "# REVEALING AND PREVENTING FRAUDLENT TRANSACTION USING MACHINE-LEARNING"
   ]
  },
  {
   "cell_type": "markdown",
   "metadata": {},
   "source": [
    "Our idea is to use open-source Credit Card Transaction data and to develop a Machine Learning Model that can learn from patterns of abnormal transactions and classify the credit card transactions as fraudulent or fair. The final goal is to generate the best possible results for detecting Credit."
   ]
  },
  {
   "cell_type": "markdown",
   "metadata": {},
   "source": [
    "# Importing the Dependencies\n",
    "NumPy : a Python library used for numerical operations, particularly with arrays.\n",
    "\n",
    "Pandas: a Python library used for data manipulation and analysis.\n",
    "\n",
    "scikit-learn: a popular Python library for machine learning, which includes a variety of tools for classification, regression,                 clustering, and more.\n",
    "\n",
    "train_test_split: a function from scikit-learn that splits a dataset into training and testing sets.\n",
    "\n",
    "LogisticRegression: a class from scikit-learn that implements logistic regression, a popular classification algorithm.\n",
    "\n",
    "accuracy_score: a function from scikit-learn that calculates the accuracy of a classification model by comparing its predictions \t\t\t\t to the true labels.\n",
    "\n",
    "We will be using these several libraries and uses them to build and evaluate a logistic regression model for a binary classification task."
   ]
  },
  {
   "cell_type": "code",
   "execution_count": 1,
   "metadata": {
    "id": "hlNfrSC1PGfZ"
   },
   "outputs": [],
   "source": [
    "import numpy as np\n",
    "import pandas as pd\n",
    "from sklearn.model_selection import train_test_split\n",
    "from sklearn.linear_model import LogisticRegression\n",
    "from sklearn.metrics import accuracy_score\n",
    "\n",
    "import pandas as pd\n",
    "from sklearn.decomposition import PCA\n",
    "from sklearn.preprocessing import StandardScaler\n",
    "from sklearn.preprocessing import OneHotEncoder, StandardScaler\n",
    "\n",
    "import matplotlib.pyplot as plt\n",
    "import seaborn as sns"
   ]
  },
  {
   "cell_type": "markdown",
   "metadata": {},
   "source": [
    "\n",
    "\n"
   ]
  },
  {
   "cell_type": "markdown",
   "metadata": {},
   "source": [
    "# loading the dataset to a Pandas DataFrame"
   ]
  },
  {
   "cell_type": "markdown",
   "metadata": {},
   "source": [
    "This code reads a CSV (comma-separated values) file called \"creditcard.csv\" into a Pandas DataFrame object named \"credit_card_data\".\n",
    "\n",
    "\"read_csv()\" is a function provided by Pandas for reading CSV files into a DataFrame Object."
   ]
  },
  {
   "cell_type": "code",
   "execution_count": 2,
   "metadata": {
    "id": "W0CTsNioTKnJ"
   },
   "outputs": [],
   "source": [
    "credit_card_data = pd.read_csv(\"creditcard.csv\")"
   ]
  },
  {
   "cell_type": "markdown",
   "metadata": {},
   "source": [
    "\n"
   ]
  },
  {
   "cell_type": "markdown",
   "metadata": {},
   "source": [
    "# First 5 rows of the dataset"
   ]
  },
  {
   "cell_type": "markdown",
   "metadata": {},
   "source": [
    "This code calls the 'head()' method on a Pandas DataFrame object called \"credit_card_data\", which displays the first five rows of the DataFrame.\n"
   ]
  },
  {
   "cell_type": "code",
   "execution_count": 3,
   "metadata": {
    "colab": {
     "base_uri": "https://localhost:8080/",
     "height": 300
    },
    "id": "o_iMfyHsTa6s",
    "outputId": "1832ee62-39e8-4bf2-88b6-dae1f35be57b"
   },
   "outputs": [
    {
     "data": {
      "text/html": [
       "<div>\n",
       "<style scoped>\n",
       "    .dataframe tbody tr th:only-of-type {\n",
       "        vertical-align: middle;\n",
       "    }\n",
       "\n",
       "    .dataframe tbody tr th {\n",
       "        vertical-align: top;\n",
       "    }\n",
       "\n",
       "    .dataframe thead th {\n",
       "        text-align: right;\n",
       "    }\n",
       "</style>\n",
       "<table border=\"1\" class=\"dataframe\">\n",
       "  <thead>\n",
       "    <tr style=\"text-align: right;\">\n",
       "      <th></th>\n",
       "      <th>Transaction_time</th>\n",
       "      <th>Transaction_id</th>\n",
       "      <th>Merchant_name</th>\n",
       "      <th>Merchant_category</th>\n",
       "      <th>Credit_limit</th>\n",
       "      <th>Transaction_currency</th>\n",
       "      <th>Merchant_location_city</th>\n",
       "      <th>Merchant_location_state</th>\n",
       "      <th>Merchant_location_country</th>\n",
       "      <th>Merchant_location_zipcode</th>\n",
       "      <th>...</th>\n",
       "      <th>Decline_reason</th>\n",
       "      <th>Refund_status</th>\n",
       "      <th>Transaction_category</th>\n",
       "      <th>Interest_rate</th>\n",
       "      <th>Late_payment_fees</th>\n",
       "      <th>Minimum_payment_due</th>\n",
       "      <th>Total_balance</th>\n",
       "      <th>Card_usage_frequency</th>\n",
       "      <th>Transaction_Amount</th>\n",
       "      <th>Class</th>\n",
       "    </tr>\n",
       "  </thead>\n",
       "  <tbody>\n",
       "    <tr>\n",
       "      <th>0</th>\n",
       "      <td>0.0</td>\n",
       "      <td>-1.359807</td>\n",
       "      <td>-0.072781</td>\n",
       "      <td>2.536347</td>\n",
       "      <td>1.378155</td>\n",
       "      <td>-0.338321</td>\n",
       "      <td>0.462388</td>\n",
       "      <td>0.239599</td>\n",
       "      <td>0.098698</td>\n",
       "      <td>0.363787</td>\n",
       "      <td>...</td>\n",
       "      <td>-0.018307</td>\n",
       "      <td>0.277838</td>\n",
       "      <td>-0.110474</td>\n",
       "      <td>0.066928</td>\n",
       "      <td>0.128539</td>\n",
       "      <td>-0.189115</td>\n",
       "      <td>0.133558</td>\n",
       "      <td>-0.021053</td>\n",
       "      <td>149.62</td>\n",
       "      <td>0</td>\n",
       "    </tr>\n",
       "    <tr>\n",
       "      <th>1</th>\n",
       "      <td>0.0</td>\n",
       "      <td>1.191857</td>\n",
       "      <td>0.266151</td>\n",
       "      <td>0.166480</td>\n",
       "      <td>0.448154</td>\n",
       "      <td>0.060018</td>\n",
       "      <td>-0.082361</td>\n",
       "      <td>-0.078803</td>\n",
       "      <td>0.085102</td>\n",
       "      <td>-0.255425</td>\n",
       "      <td>...</td>\n",
       "      <td>-0.225775</td>\n",
       "      <td>-0.638672</td>\n",
       "      <td>0.101288</td>\n",
       "      <td>-0.339846</td>\n",
       "      <td>0.167170</td>\n",
       "      <td>0.125895</td>\n",
       "      <td>-0.008983</td>\n",
       "      <td>0.014724</td>\n",
       "      <td>2.69</td>\n",
       "      <td>0</td>\n",
       "    </tr>\n",
       "    <tr>\n",
       "      <th>2</th>\n",
       "      <td>1.0</td>\n",
       "      <td>-1.358354</td>\n",
       "      <td>-1.340163</td>\n",
       "      <td>1.773209</td>\n",
       "      <td>0.379780</td>\n",
       "      <td>-0.503198</td>\n",
       "      <td>1.800499</td>\n",
       "      <td>0.791461</td>\n",
       "      <td>0.247676</td>\n",
       "      <td>-1.514654</td>\n",
       "      <td>...</td>\n",
       "      <td>0.247998</td>\n",
       "      <td>0.771679</td>\n",
       "      <td>0.909412</td>\n",
       "      <td>-0.689281</td>\n",
       "      <td>-0.327642</td>\n",
       "      <td>-0.139097</td>\n",
       "      <td>-0.055353</td>\n",
       "      <td>-0.059752</td>\n",
       "      <td>378.66</td>\n",
       "      <td>0</td>\n",
       "    </tr>\n",
       "    <tr>\n",
       "      <th>3</th>\n",
       "      <td>1.0</td>\n",
       "      <td>-0.966272</td>\n",
       "      <td>-0.185226</td>\n",
       "      <td>1.792993</td>\n",
       "      <td>-0.863291</td>\n",
       "      <td>-0.010309</td>\n",
       "      <td>1.247203</td>\n",
       "      <td>0.237609</td>\n",
       "      <td>0.377436</td>\n",
       "      <td>-1.387024</td>\n",
       "      <td>...</td>\n",
       "      <td>-0.108300</td>\n",
       "      <td>0.005274</td>\n",
       "      <td>-0.190321</td>\n",
       "      <td>-1.175575</td>\n",
       "      <td>0.647376</td>\n",
       "      <td>-0.221929</td>\n",
       "      <td>0.062723</td>\n",
       "      <td>0.061458</td>\n",
       "      <td>123.50</td>\n",
       "      <td>0</td>\n",
       "    </tr>\n",
       "    <tr>\n",
       "      <th>4</th>\n",
       "      <td>2.0</td>\n",
       "      <td>-1.158233</td>\n",
       "      <td>0.877737</td>\n",
       "      <td>1.548718</td>\n",
       "      <td>0.403034</td>\n",
       "      <td>-0.407193</td>\n",
       "      <td>0.095921</td>\n",
       "      <td>0.592941</td>\n",
       "      <td>-0.270533</td>\n",
       "      <td>0.817739</td>\n",
       "      <td>...</td>\n",
       "      <td>-0.009431</td>\n",
       "      <td>0.798278</td>\n",
       "      <td>-0.137458</td>\n",
       "      <td>0.141267</td>\n",
       "      <td>-0.206010</td>\n",
       "      <td>0.502292</td>\n",
       "      <td>0.219422</td>\n",
       "      <td>0.215153</td>\n",
       "      <td>69.99</td>\n",
       "      <td>0</td>\n",
       "    </tr>\n",
       "  </tbody>\n",
       "</table>\n",
       "<p>5 rows × 31 columns</p>\n",
       "</div>"
      ],
      "text/plain": [
       "   Transaction_time  Transaction_id  Merchant_name  Merchant_category  \\\n",
       "0               0.0       -1.359807      -0.072781           2.536347   \n",
       "1               0.0        1.191857       0.266151           0.166480   \n",
       "2               1.0       -1.358354      -1.340163           1.773209   \n",
       "3               1.0       -0.966272      -0.185226           1.792993   \n",
       "4               2.0       -1.158233       0.877737           1.548718   \n",
       "\n",
       "   Credit_limit  Transaction_currency  Merchant_location_city  \\\n",
       "0      1.378155             -0.338321                0.462388   \n",
       "1      0.448154              0.060018               -0.082361   \n",
       "2      0.379780             -0.503198                1.800499   \n",
       "3     -0.863291             -0.010309                1.247203   \n",
       "4      0.403034             -0.407193                0.095921   \n",
       "\n",
       "   Merchant_location_state  Merchant_location_country  \\\n",
       "0                 0.239599                   0.098698   \n",
       "1                -0.078803                   0.085102   \n",
       "2                 0.791461                   0.247676   \n",
       "3                 0.237609                   0.377436   \n",
       "4                 0.592941                  -0.270533   \n",
       "\n",
       "   Merchant_location_zipcode  ...  Decline_reason  Refund_status  \\\n",
       "0                   0.363787  ...       -0.018307       0.277838   \n",
       "1                  -0.255425  ...       -0.225775      -0.638672   \n",
       "2                  -1.514654  ...        0.247998       0.771679   \n",
       "3                  -1.387024  ...       -0.108300       0.005274   \n",
       "4                   0.817739  ...       -0.009431       0.798278   \n",
       "\n",
       "   Transaction_category  Interest_rate  Late_payment_fees  \\\n",
       "0             -0.110474       0.066928           0.128539   \n",
       "1              0.101288      -0.339846           0.167170   \n",
       "2              0.909412      -0.689281          -0.327642   \n",
       "3             -0.190321      -1.175575           0.647376   \n",
       "4             -0.137458       0.141267          -0.206010   \n",
       "\n",
       "   Minimum_payment_due  Total_balance  Card_usage_frequency  \\\n",
       "0            -0.189115       0.133558             -0.021053   \n",
       "1             0.125895      -0.008983              0.014724   \n",
       "2            -0.139097      -0.055353             -0.059752   \n",
       "3            -0.221929       0.062723              0.061458   \n",
       "4             0.502292       0.219422              0.215153   \n",
       "\n",
       "   Transaction_Amount  Class  \n",
       "0              149.62      0  \n",
       "1                2.69      0  \n",
       "2              378.66      0  \n",
       "3              123.50      0  \n",
       "4               69.99      0  \n",
       "\n",
       "[5 rows x 31 columns]"
      ]
     },
     "execution_count": 3,
     "metadata": {},
     "output_type": "execute_result"
    }
   ],
   "source": [
    "credit_card_data.head()"
   ]
  },
  {
   "cell_type": "markdown",
   "metadata": {},
   "source": [
    "# last 5 rows of the dataset"
   ]
  },
  {
   "cell_type": "markdown",
   "metadata": {},
   "source": [
    "This code calls the 'tail()' method on a Pandas DataFrame object called \"credit_card_data\", which displays the last five rows of the DataFrame."
   ]
  },
  {
   "cell_type": "code",
   "execution_count": 4,
   "metadata": {
    "colab": {
     "base_uri": "https://localhost:8080/",
     "height": 300
    },
    "id": "iWCP6YJjThIM",
    "outputId": "be72901d-0846-4207-9200-c17549f5b705"
   },
   "outputs": [
    {
     "data": {
      "text/html": [
       "<div>\n",
       "<style scoped>\n",
       "    .dataframe tbody tr th:only-of-type {\n",
       "        vertical-align: middle;\n",
       "    }\n",
       "\n",
       "    .dataframe tbody tr th {\n",
       "        vertical-align: top;\n",
       "    }\n",
       "\n",
       "    .dataframe thead th {\n",
       "        text-align: right;\n",
       "    }\n",
       "</style>\n",
       "<table border=\"1\" class=\"dataframe\">\n",
       "  <thead>\n",
       "    <tr style=\"text-align: right;\">\n",
       "      <th></th>\n",
       "      <th>Transaction_time</th>\n",
       "      <th>Transaction_id</th>\n",
       "      <th>Merchant_name</th>\n",
       "      <th>Merchant_category</th>\n",
       "      <th>Credit_limit</th>\n",
       "      <th>Transaction_currency</th>\n",
       "      <th>Merchant_location_city</th>\n",
       "      <th>Merchant_location_state</th>\n",
       "      <th>Merchant_location_country</th>\n",
       "      <th>Merchant_location_zipcode</th>\n",
       "      <th>...</th>\n",
       "      <th>Decline_reason</th>\n",
       "      <th>Refund_status</th>\n",
       "      <th>Transaction_category</th>\n",
       "      <th>Interest_rate</th>\n",
       "      <th>Late_payment_fees</th>\n",
       "      <th>Minimum_payment_due</th>\n",
       "      <th>Total_balance</th>\n",
       "      <th>Card_usage_frequency</th>\n",
       "      <th>Transaction_Amount</th>\n",
       "      <th>Class</th>\n",
       "    </tr>\n",
       "  </thead>\n",
       "  <tbody>\n",
       "    <tr>\n",
       "      <th>284802</th>\n",
       "      <td>172786.0</td>\n",
       "      <td>-11.881118</td>\n",
       "      <td>10.071785</td>\n",
       "      <td>-9.834783</td>\n",
       "      <td>-2.066656</td>\n",
       "      <td>-5.364473</td>\n",
       "      <td>-2.606837</td>\n",
       "      <td>-4.918215</td>\n",
       "      <td>7.305334</td>\n",
       "      <td>1.914428</td>\n",
       "      <td>...</td>\n",
       "      <td>0.213454</td>\n",
       "      <td>0.111864</td>\n",
       "      <td>1.014480</td>\n",
       "      <td>-0.509348</td>\n",
       "      <td>1.436807</td>\n",
       "      <td>0.250034</td>\n",
       "      <td>0.943651</td>\n",
       "      <td>0.823731</td>\n",
       "      <td>0.77</td>\n",
       "      <td>0</td>\n",
       "    </tr>\n",
       "    <tr>\n",
       "      <th>284803</th>\n",
       "      <td>172787.0</td>\n",
       "      <td>-0.732789</td>\n",
       "      <td>-0.055080</td>\n",
       "      <td>2.035030</td>\n",
       "      <td>-0.738589</td>\n",
       "      <td>0.868229</td>\n",
       "      <td>1.058415</td>\n",
       "      <td>0.024330</td>\n",
       "      <td>0.294869</td>\n",
       "      <td>0.584800</td>\n",
       "      <td>...</td>\n",
       "      <td>0.214205</td>\n",
       "      <td>0.924384</td>\n",
       "      <td>0.012463</td>\n",
       "      <td>-1.016226</td>\n",
       "      <td>-0.606624</td>\n",
       "      <td>-0.395255</td>\n",
       "      <td>0.068472</td>\n",
       "      <td>-0.053527</td>\n",
       "      <td>24.79</td>\n",
       "      <td>0</td>\n",
       "    </tr>\n",
       "    <tr>\n",
       "      <th>284804</th>\n",
       "      <td>172788.0</td>\n",
       "      <td>1.919565</td>\n",
       "      <td>-0.301254</td>\n",
       "      <td>-3.249640</td>\n",
       "      <td>-0.557828</td>\n",
       "      <td>2.630515</td>\n",
       "      <td>3.031260</td>\n",
       "      <td>-0.296827</td>\n",
       "      <td>0.708417</td>\n",
       "      <td>0.432454</td>\n",
       "      <td>...</td>\n",
       "      <td>0.232045</td>\n",
       "      <td>0.578229</td>\n",
       "      <td>-0.037501</td>\n",
       "      <td>0.640134</td>\n",
       "      <td>0.265745</td>\n",
       "      <td>-0.087371</td>\n",
       "      <td>0.004455</td>\n",
       "      <td>-0.026561</td>\n",
       "      <td>67.88</td>\n",
       "      <td>0</td>\n",
       "    </tr>\n",
       "    <tr>\n",
       "      <th>284805</th>\n",
       "      <td>172788.0</td>\n",
       "      <td>-0.240440</td>\n",
       "      <td>0.530483</td>\n",
       "      <td>0.702510</td>\n",
       "      <td>0.689799</td>\n",
       "      <td>-0.377961</td>\n",
       "      <td>0.623708</td>\n",
       "      <td>-0.686180</td>\n",
       "      <td>0.679145</td>\n",
       "      <td>0.392087</td>\n",
       "      <td>...</td>\n",
       "      <td>0.265245</td>\n",
       "      <td>0.800049</td>\n",
       "      <td>-0.163298</td>\n",
       "      <td>0.123205</td>\n",
       "      <td>-0.569159</td>\n",
       "      <td>0.546668</td>\n",
       "      <td>0.108821</td>\n",
       "      <td>0.104533</td>\n",
       "      <td>10.00</td>\n",
       "      <td>0</td>\n",
       "    </tr>\n",
       "    <tr>\n",
       "      <th>284806</th>\n",
       "      <td>172792.0</td>\n",
       "      <td>-0.533413</td>\n",
       "      <td>-0.189733</td>\n",
       "      <td>0.703337</td>\n",
       "      <td>-0.506271</td>\n",
       "      <td>-0.012546</td>\n",
       "      <td>-0.649617</td>\n",
       "      <td>1.577006</td>\n",
       "      <td>-0.414650</td>\n",
       "      <td>0.486180</td>\n",
       "      <td>...</td>\n",
       "      <td>0.261057</td>\n",
       "      <td>0.643078</td>\n",
       "      <td>0.376777</td>\n",
       "      <td>0.008797</td>\n",
       "      <td>-0.473649</td>\n",
       "      <td>-0.818267</td>\n",
       "      <td>-0.002415</td>\n",
       "      <td>0.013649</td>\n",
       "      <td>217.00</td>\n",
       "      <td>0</td>\n",
       "    </tr>\n",
       "  </tbody>\n",
       "</table>\n",
       "<p>5 rows × 31 columns</p>\n",
       "</div>"
      ],
      "text/plain": [
       "        Transaction_time  Transaction_id  Merchant_name  Merchant_category  \\\n",
       "284802          172786.0      -11.881118      10.071785          -9.834783   \n",
       "284803          172787.0       -0.732789      -0.055080           2.035030   \n",
       "284804          172788.0        1.919565      -0.301254          -3.249640   \n",
       "284805          172788.0       -0.240440       0.530483           0.702510   \n",
       "284806          172792.0       -0.533413      -0.189733           0.703337   \n",
       "\n",
       "        Credit_limit  Transaction_currency  Merchant_location_city  \\\n",
       "284802     -2.066656             -5.364473               -2.606837   \n",
       "284803     -0.738589              0.868229                1.058415   \n",
       "284804     -0.557828              2.630515                3.031260   \n",
       "284805      0.689799             -0.377961                0.623708   \n",
       "284806     -0.506271             -0.012546               -0.649617   \n",
       "\n",
       "        Merchant_location_state  Merchant_location_country  \\\n",
       "284802                -4.918215                   7.305334   \n",
       "284803                 0.024330                   0.294869   \n",
       "284804                -0.296827                   0.708417   \n",
       "284805                -0.686180                   0.679145   \n",
       "284806                 1.577006                  -0.414650   \n",
       "\n",
       "        Merchant_location_zipcode  ...  Decline_reason  Refund_status  \\\n",
       "284802                   1.914428  ...        0.213454       0.111864   \n",
       "284803                   0.584800  ...        0.214205       0.924384   \n",
       "284804                   0.432454  ...        0.232045       0.578229   \n",
       "284805                   0.392087  ...        0.265245       0.800049   \n",
       "284806                   0.486180  ...        0.261057       0.643078   \n",
       "\n",
       "        Transaction_category  Interest_rate  Late_payment_fees  \\\n",
       "284802              1.014480      -0.509348           1.436807   \n",
       "284803              0.012463      -1.016226          -0.606624   \n",
       "284804             -0.037501       0.640134           0.265745   \n",
       "284805             -0.163298       0.123205          -0.569159   \n",
       "284806              0.376777       0.008797          -0.473649   \n",
       "\n",
       "        Minimum_payment_due  Total_balance  Card_usage_frequency  \\\n",
       "284802             0.250034       0.943651              0.823731   \n",
       "284803            -0.395255       0.068472             -0.053527   \n",
       "284804            -0.087371       0.004455             -0.026561   \n",
       "284805             0.546668       0.108821              0.104533   \n",
       "284806            -0.818267      -0.002415              0.013649   \n",
       "\n",
       "        Transaction_Amount  Class  \n",
       "284802                0.77      0  \n",
       "284803               24.79      0  \n",
       "284804               67.88      0  \n",
       "284805               10.00      0  \n",
       "284806              217.00      0  \n",
       "\n",
       "[5 rows x 31 columns]"
      ]
     },
     "execution_count": 4,
     "metadata": {},
     "output_type": "execute_result"
    }
   ],
   "source": [
    "credit_card_data.tail()"
   ]
  },
  {
   "cell_type": "markdown",
   "metadata": {
    "id": "I5Q3tl2o7VP9"
   },
   "source": [
    "# dataset informations"
   ]
  },
  {
   "cell_type": "markdown",
   "metadata": {},
   "source": [
    "This code calls the 'info()' method on a Pandas DataFrame object called \"credit_card_data\", which displays information about the DataFrame, including the column names, data types, and non-null values for each column."
   ]
  },
  {
   "cell_type": "code",
   "execution_count": 5,
   "metadata": {
    "colab": {
     "base_uri": "https://localhost:8080/"
    },
    "id": "KcCZquvEUD3A",
    "outputId": "86907c78-69c1-4e76-8209-d9fe8589b5e9"
   },
   "outputs": [
    {
     "name": "stdout",
     "output_type": "stream",
     "text": [
      "<class 'pandas.core.frame.DataFrame'>\n",
      "RangeIndex: 284807 entries, 0 to 284806\n",
      "Data columns (total 31 columns):\n",
      " #   Column                     Non-Null Count   Dtype  \n",
      "---  ------                     --------------   -----  \n",
      " 0   Transaction_time           284807 non-null  float64\n",
      " 1   Transaction_id             284807 non-null  float64\n",
      " 2   Merchant_name              284807 non-null  float64\n",
      " 3   Merchant_category          284807 non-null  float64\n",
      " 4   Credit_limit               284807 non-null  float64\n",
      " 5   Transaction_currency       284807 non-null  float64\n",
      " 6   Merchant_location_city     284807 non-null  float64\n",
      " 7   Merchant_location_state    284807 non-null  float64\n",
      " 8   Merchant_location_country  284807 non-null  float64\n",
      " 9   Merchant_location_zipcode  284807 non-null  float64\n",
      " 10  Terminal_id                284807 non-null  float64\n",
      " 11  Card_type                  284807 non-null  float64\n",
      " 12  Card_network               284807 non-null  float64\n",
      " 13  Card_issuer                284807 non-null  float64\n",
      " 14  Card_type_detail           284807 non-null  float64\n",
      " 15  Card_number                284807 non-null  float64\n",
      " 16  Cardholder_name            284807 non-null  float64\n",
      " 17  Card_expiration_date       284807 non-null  float64\n",
      " 18  Card_cvv                   284807 non-null  float64\n",
      " 19  Authorization_code         284807 non-null  float64\n",
      " 20  Transaction_status         284807 non-null  float64\n",
      " 21  Decline_reason             284807 non-null  float64\n",
      " 22  Refund_status              284807 non-null  float64\n",
      " 23  Transaction_category       284807 non-null  float64\n",
      " 24  Interest_rate              284807 non-null  float64\n",
      " 25  Late_payment_fees          284807 non-null  float64\n",
      " 26  Minimum_payment_due        284807 non-null  float64\n",
      " 27  Total_balance              284807 non-null  float64\n",
      " 28  Card_usage_frequency       284807 non-null  float64\n",
      " 29  Transaction_Amount         284807 non-null  float64\n",
      " 30  Class                      284807 non-null  int64  \n",
      "dtypes: float64(30), int64(1)\n",
      "memory usage: 67.4 MB\n"
     ]
    }
   ],
   "source": [
    "credit_card_data.info()"
   ]
  },
  {
   "cell_type": "markdown",
   "metadata": {},
   "source": [
    "# Checking the number of missing values in each column"
   ]
  },
  {
   "cell_type": "markdown",
   "metadata": {},
   "source": [
    "This code calls the 'isnull()' method on a Pandas DataFrame object called \"credit_card_data\", which returns a DataFrame of the same shape as \"credit_card_data\" but with boolean values indicating whether each element is null or not.\n",
    "\n",
    "The 'sum()' method is then called on this DataFrame to count the number of null values in each column."
   ]
  },
  {
   "cell_type": "code",
   "execution_count": 6,
   "metadata": {
    "colab": {
     "base_uri": "https://localhost:8080/"
    },
    "id": "XxwasmfKUQiA",
    "outputId": "f78a6016-ee4d-49f4-af7c-9b6fa9fa06c6"
   },
   "outputs": [
    {
     "data": {
      "text/plain": [
       "Transaction_time             0\n",
       "Transaction_id               0\n",
       "Merchant_name                0\n",
       "Merchant_category            0\n",
       "Credit_limit                 0\n",
       "Transaction_currency         0\n",
       "Merchant_location_city       0\n",
       "Merchant_location_state      0\n",
       "Merchant_location_country    0\n",
       "Merchant_location_zipcode    0\n",
       "Terminal_id                  0\n",
       "Card_type                    0\n",
       "Card_network                 0\n",
       "Card_issuer                  0\n",
       "Card_type_detail             0\n",
       "Card_number                  0\n",
       "Cardholder_name              0\n",
       "Card_expiration_date         0\n",
       "Card_cvv                     0\n",
       "Authorization_code           0\n",
       "Transaction_status           0\n",
       "Decline_reason               0\n",
       "Refund_status                0\n",
       "Transaction_category         0\n",
       "Interest_rate                0\n",
       "Late_payment_fees            0\n",
       "Minimum_payment_due          0\n",
       "Total_balance                0\n",
       "Card_usage_frequency         0\n",
       "Transaction_Amount           0\n",
       "Class                        0\n",
       "dtype: int64"
      ]
     },
     "execution_count": 6,
     "metadata": {},
     "output_type": "execute_result"
    }
   ],
   "source": [
    "credit_card_data.isnull().sum()"
   ]
  },
  {
   "cell_type": "markdown",
   "metadata": {
    "id": "MMa10sNC-ayU"
   },
   "source": [
    "# Distribution of legit transactions & fraudulent transactions"
   ]
  },
  {
   "cell_type": "markdown",
   "metadata": {
    "id": "y7cpnK7D_wV5"
   },
   "source": [
    "This code calls the 'value_counts()' method on the \"Class\" column of a Pandas DataFrame object called \"credit_card_data\",which returns a count of number of unique values in a column of a DataFrame.\n",
    "\n",
    "In this object class having '0' is considered as \"legit\" and '1' is considered as \"fraudulent\".\n"
   ]
  },
  {
   "cell_type": "code",
   "execution_count": 7,
   "metadata": {
    "colab": {
     "base_uri": "https://localhost:8080/"
    },
    "id": "EIpoKfp5Ugri",
    "outputId": "29b91018-7c20-4c4f-ccb3-f3835aefffad"
   },
   "outputs": [
    {
     "data": {
      "text/plain": [
       "0    284315\n",
       "1       492\n",
       "Name: Class, dtype: int64"
      ]
     },
     "execution_count": 7,
     "metadata": {},
     "output_type": "execute_result"
    }
   ],
   "source": [
    "credit_card_data['Class'].value_counts()"
   ]
  },
  {
   "cell_type": "markdown",
   "metadata": {},
   "source": [
    "# Countplot visualization of the 'Class' column"
   ]
  },
  {
   "cell_type": "markdown",
   "metadata": {
    "id": "flz_InK7VGri"
   },
   "source": [
    "This code uses the Seaborn library to create a countplot visualization of the 'Class' column in the \"credit_card_data\" DataFrame.\n",
    "\n",
    "countplot() is a function provided by Seaborn for creating a countplot visualization, which shows the count of observations in each category of a categorical variable. In this case, x='Class' specifies the column to use for the countplot, and data=\"credit_card_data\" specifies the DataFrame to use for the data."
   ]
  },
  {
   "cell_type": "code",
   "execution_count": 8,
   "metadata": {
    "colab": {
     "base_uri": "https://localhost:8080/",
     "height": 448
    },
    "id": "tFHOeG-LKAw3",
    "outputId": "be1cb746-76bb-481c-e454-127bfc9f6648"
   },
   "outputs": [
    {
     "data": {
      "image/png": "[encoded data removed]",
      "text/plain": [
       "<Figure size 432x288 with 1 Axes>"
      ]
     },
     "metadata": {},
     "output_type": "display_data"
    }
   ],
   "source": [
    "\n",
    "plt.pie(credit_card_data['Class'].value_counts(),labels=['Not Froud','Froud'],autopct='%1.1f%%', startangle=50 ,colors =['#66b3ff','#ffcc99']\n",
    ")\n",
    "\n",
    "plt.legend(title = \"Class\")\n",
    "plt.show() "
   ]
  },
  {
   "cell_type": "markdown",
   "metadata": {},
   "source": [
    "# Heatmap of a credit card transaction \n",
    "This code creates a heatmap of the correlation matrix of a credit card transaction dataset using the Seaborn libraryThis code creates a heatmap of the correlation matrix of a credit card transaction dataset using the Seaborn library"
   ]
  },
  {
   "cell_type": "code",
   "execution_count": 9,
   "metadata": {},
   "outputs": [
    {
     "data": {
      "text/plain": [
       "<AxesSubplot:>"
      ]
     },
     "execution_count": 9,
     "metadata": {},
     "output_type": "execute_result"
    },
    {
     "data": {
      "image/png": "[encoded data removed]",
      "text/plain": [
       "<Figure size 1800x720 with 2 Axes>"
      ]
     },
     "metadata": {
      "needs_background": "light"
     },
     "output_type": "display_data"
    }
   ],
   "source": [
    "fig, ax = plt.subplots(figsize=(25,10))\n",
    "corr = credit_card_data.drop(['Class'],axis=1).corr()\n",
    "sns.heatmap(corr, ax = ax, annot=True,cmap='coolwarm', fmt=\".3f\", linewidths=.5, vmin=-1, vmax=1)"
   ]
  },
  {
   "cell_type": "code",
   "execution_count": 10,
   "metadata": {},
   "outputs": [
    {
     "data": {
      "text/html": [
       "<div>\n",
       "<style scoped>\n",
       "    .dataframe tbody tr th:only-of-type {\n",
       "        vertical-align: middle;\n",
       "    }\n",
       "\n",
       "    .dataframe tbody tr th {\n",
       "        vertical-align: top;\n",
       "    }\n",
       "\n",
       "    .dataframe thead th {\n",
       "        text-align: right;\n",
       "    }\n",
       "</style>\n",
       "<table border=\"1\" class=\"dataframe\">\n",
       "  <thead>\n",
       "    <tr style=\"text-align: right;\">\n",
       "      <th></th>\n",
       "      <th>Transaction_time</th>\n",
       "      <th>Transaction_id</th>\n",
       "      <th>Merchant_name</th>\n",
       "      <th>Merchant_category</th>\n",
       "      <th>Credit_limit</th>\n",
       "      <th>Transaction_currency</th>\n",
       "      <th>Merchant_location_city</th>\n",
       "      <th>Merchant_location_state</th>\n",
       "      <th>Merchant_location_country</th>\n",
       "      <th>Merchant_location_zipcode</th>\n",
       "      <th>...</th>\n",
       "      <th>Decline_reason</th>\n",
       "      <th>Refund_status</th>\n",
       "      <th>Transaction_category</th>\n",
       "      <th>Interest_rate</th>\n",
       "      <th>Late_payment_fees</th>\n",
       "      <th>Minimum_payment_due</th>\n",
       "      <th>Total_balance</th>\n",
       "      <th>Card_usage_frequency</th>\n",
       "      <th>Transaction_Amount</th>\n",
       "      <th>Class</th>\n",
       "    </tr>\n",
       "  </thead>\n",
       "  <tbody>\n",
       "    <tr>\n",
       "      <th>0</th>\n",
       "      <td>0.0</td>\n",
       "      <td>-1.359807</td>\n",
       "      <td>-0.072781</td>\n",
       "      <td>2.536347</td>\n",
       "      <td>1.378155</td>\n",
       "      <td>-0.338321</td>\n",
       "      <td>0.462388</td>\n",
       "      <td>0.239599</td>\n",
       "      <td>0.098698</td>\n",
       "      <td>0.363787</td>\n",
       "      <td>...</td>\n",
       "      <td>-0.018307</td>\n",
       "      <td>0.277838</td>\n",
       "      <td>-0.110474</td>\n",
       "      <td>0.066928</td>\n",
       "      <td>0.128539</td>\n",
       "      <td>-0.189115</td>\n",
       "      <td>0.133558</td>\n",
       "      <td>-0.021053</td>\n",
       "      <td>149.62</td>\n",
       "      <td>0</td>\n",
       "    </tr>\n",
       "    <tr>\n",
       "      <th>1</th>\n",
       "      <td>0.0</td>\n",
       "      <td>1.191857</td>\n",
       "      <td>0.266151</td>\n",
       "      <td>0.166480</td>\n",
       "      <td>0.448154</td>\n",
       "      <td>0.060018</td>\n",
       "      <td>-0.082361</td>\n",
       "      <td>-0.078803</td>\n",
       "      <td>0.085102</td>\n",
       "      <td>-0.255425</td>\n",
       "      <td>...</td>\n",
       "      <td>-0.225775</td>\n",
       "      <td>-0.638672</td>\n",
       "      <td>0.101288</td>\n",
       "      <td>-0.339846</td>\n",
       "      <td>0.167170</td>\n",
       "      <td>0.125895</td>\n",
       "      <td>-0.008983</td>\n",
       "      <td>0.014724</td>\n",
       "      <td>2.69</td>\n",
       "      <td>0</td>\n",
       "    </tr>\n",
       "    <tr>\n",
       "      <th>2</th>\n",
       "      <td>1.0</td>\n",
       "      <td>-1.358354</td>\n",
       "      <td>-1.340163</td>\n",
       "      <td>1.773209</td>\n",
       "      <td>0.379780</td>\n",
       "      <td>-0.503198</td>\n",
       "      <td>1.800499</td>\n",
       "      <td>0.791461</td>\n",
       "      <td>0.247676</td>\n",
       "      <td>-1.514654</td>\n",
       "      <td>...</td>\n",
       "      <td>0.247998</td>\n",
       "      <td>0.771679</td>\n",
       "      <td>0.909412</td>\n",
       "      <td>-0.689281</td>\n",
       "      <td>-0.327642</td>\n",
       "      <td>-0.139097</td>\n",
       "      <td>-0.055353</td>\n",
       "      <td>-0.059752</td>\n",
       "      <td>378.66</td>\n",
       "      <td>0</td>\n",
       "    </tr>\n",
       "    <tr>\n",
       "      <th>3</th>\n",
       "      <td>1.0</td>\n",
       "      <td>-0.966272</td>\n",
       "      <td>-0.185226</td>\n",
       "      <td>1.792993</td>\n",
       "      <td>-0.863291</td>\n",
       "      <td>-0.010309</td>\n",
       "      <td>1.247203</td>\n",
       "      <td>0.237609</td>\n",
       "      <td>0.377436</td>\n",
       "      <td>-1.387024</td>\n",
       "      <td>...</td>\n",
       "      <td>-0.108300</td>\n",
       "      <td>0.005274</td>\n",
       "      <td>-0.190321</td>\n",
       "      <td>-1.175575</td>\n",
       "      <td>0.647376</td>\n",
       "      <td>-0.221929</td>\n",
       "      <td>0.062723</td>\n",
       "      <td>0.061458</td>\n",
       "      <td>123.50</td>\n",
       "      <td>0</td>\n",
       "    </tr>\n",
       "    <tr>\n",
       "      <th>4</th>\n",
       "      <td>2.0</td>\n",
       "      <td>-1.158233</td>\n",
       "      <td>0.877737</td>\n",
       "      <td>1.548718</td>\n",
       "      <td>0.403034</td>\n",
       "      <td>-0.407193</td>\n",
       "      <td>0.095921</td>\n",
       "      <td>0.592941</td>\n",
       "      <td>-0.270533</td>\n",
       "      <td>0.817739</td>\n",
       "      <td>...</td>\n",
       "      <td>-0.009431</td>\n",
       "      <td>0.798278</td>\n",
       "      <td>-0.137458</td>\n",
       "      <td>0.141267</td>\n",
       "      <td>-0.206010</td>\n",
       "      <td>0.502292</td>\n",
       "      <td>0.219422</td>\n",
       "      <td>0.215153</td>\n",
       "      <td>69.99</td>\n",
       "      <td>0</td>\n",
       "    </tr>\n",
       "  </tbody>\n",
       "</table>\n",
       "<p>5 rows × 31 columns</p>\n",
       "</div>"
      ],
      "text/plain": [
       "   Transaction_time  Transaction_id  Merchant_name  Merchant_category  \\\n",
       "0               0.0       -1.359807      -0.072781           2.536347   \n",
       "1               0.0        1.191857       0.266151           0.166480   \n",
       "2               1.0       -1.358354      -1.340163           1.773209   \n",
       "3               1.0       -0.966272      -0.185226           1.792993   \n",
       "4               2.0       -1.158233       0.877737           1.548718   \n",
       "\n",
       "   Credit_limit  Transaction_currency  Merchant_location_city  \\\n",
       "0      1.378155             -0.338321                0.462388   \n",
       "1      0.448154              0.060018               -0.082361   \n",
       "2      0.379780             -0.503198                1.800499   \n",
       "3     -0.863291             -0.010309                1.247203   \n",
       "4      0.403034             -0.407193                0.095921   \n",
       "\n",
       "   Merchant_location_state  Merchant_location_country  \\\n",
       "0                 0.239599                   0.098698   \n",
       "1                -0.078803                   0.085102   \n",
       "2                 0.791461                   0.247676   \n",
       "3                 0.237609                   0.377436   \n",
       "4                 0.592941                  -0.270533   \n",
       "\n",
       "   Merchant_location_zipcode  ...  Decline_reason  Refund_status  \\\n",
       "0                   0.363787  ...       -0.018307       0.277838   \n",
       "1                  -0.255425  ...       -0.225775      -0.638672   \n",
       "2                  -1.514654  ...        0.247998       0.771679   \n",
       "3                  -1.387024  ...       -0.108300       0.005274   \n",
       "4                   0.817739  ...       -0.009431       0.798278   \n",
       "\n",
       "   Transaction_category  Interest_rate  Late_payment_fees  \\\n",
       "0             -0.110474       0.066928           0.128539   \n",
       "1              0.101288      -0.339846           0.167170   \n",
       "2              0.909412      -0.689281          -0.327642   \n",
       "3             -0.190321      -1.175575           0.647376   \n",
       "4             -0.137458       0.141267          -0.206010   \n",
       "\n",
       "   Minimum_payment_due  Total_balance  Card_usage_frequency  \\\n",
       "0            -0.189115       0.133558             -0.021053   \n",
       "1             0.125895      -0.008983              0.014724   \n",
       "2            -0.139097      -0.055353             -0.059752   \n",
       "3            -0.221929       0.062723              0.061458   \n",
       "4             0.502292       0.219422              0.215153   \n",
       "\n",
       "   Transaction_Amount  Class  \n",
       "0              149.62      0  \n",
       "1                2.69      0  \n",
       "2              378.66      0  \n",
       "3              123.50      0  \n",
       "4               69.99      0  \n",
       "\n",
       "[5 rows x 31 columns]"
      ]
     },
     "execution_count": 10,
     "metadata": {},
     "output_type": "execute_result"
    }
   ],
   "source": [
    "credit_card_data.head()"
   ]
  },
  {
   "cell_type": "markdown",
   "metadata": {},
   "source": [
    "# separating the data for analysis"
   ]
  },
  {
   "cell_type": "markdown",
   "metadata": {},
   "source": [
    "This code creates two new DataFrames named \"legit\" and \"fraud\" by filtering rows from the \"credit_card_data\" DataFrame based on the value of the 'Class' column.\n",
    "\n",
    "credit_card_data: The original Pandas DataFrame object containing credit card transaction data.\n",
    "\n",
    "Class: Refers to a specific column in the credit_card_data DataFrame that contains a binary label indicating whether each \t\t\t   transaction is fraudulent (1) or legitimate (0).\n",
    "\n",
    "Legit: A new DataFrame containing only the rows from credit_card_data where the 'Class' column is equal to 0 (legitimate transactions).\n",
    "\n",
    "Fraud: A new DataFrame containing only the rows from credit_card_data where the 'Class' column is equal to 1 (fraudulent transactions)."
   ]
  },
  {
   "cell_type": "code",
   "execution_count": 11,
   "metadata": {
    "id": "QNn77bdbU2Lf"
   },
   "outputs": [],
   "source": [
    "legit = credit_card_data[credit_card_data.Class == 0]\n",
    "fraud = credit_card_data[credit_card_data.Class == 1]"
   ]
  },
  {
   "cell_type": "markdown",
   "metadata": {},
   "source": [
    "#  countplot visualization of legitimate and fraudulent"
   ]
  },
  {
   "cell_type": "markdown",
   "metadata": {},
   "source": [
    "This code creates a countplot visualization using Seaborn and Matplotlib, with additional annotations and formatting.\n",
    "\n",
    "Seaborn: \tA Python library for creating statistical visualizations.\n",
    "\n",
    "Matplotlib: A Python library for creating visualizations.\n",
    "\n",
    "countplot():A function provided by Seaborn for creating a countplot visualization, which shows the count of observations in \t\t\t\t each category of a categorical variable. In this case, x='Class' specifies the column to use for the countplot, and \n",
    "\n",
    "data=credit_card_data specifies the DataFrame to use for the data."
   ]
  },
  {
   "cell_type": "code",
   "execution_count": 12,
   "metadata": {},
   "outputs": [
    {
     "data": {
      "image/png": "[encoded data removed]",
      "text/plain": [
       "<Figure size 432x288 with 1 Axes>"
      ]
     },
     "metadata": {
      "needs_background": "light"
     },
     "output_type": "display_data"
    }
   ],
   "source": [
    "import seaborn as sns\n",
    "import matplotlib.pyplot as plt\n",
    "\n",
    "# create countplot\n",
    "ax = sns.countplot(x='Class', data=credit_card_data)\n",
    "\n",
    "# add value labels to each bar\n",
    "for p in ax.patches:\n",
    "    ax.annotate('{:.1f}'.format(p.get_height()), (p.get_x()+0.4, p.get_height()+50))\n",
    "    ax.text(p.get_x() + p.get_width() / 2, p.get_height() + 10, '{:.0f}'.format(p.get_height()), ha='center')\n",
    "\n",
    "# set title and axis labels\n",
    "ax.set_title(\"Transaction Class Distribution\")\n",
    "ax.set_xlabel(\"Class\")\n",
    "ax.set_ylabel(\"Count\")\n",
    "\n",
    "# display plot\n",
    "plt.show()\n"
   ]
  },
  {
   "cell_type": "markdown",
   "metadata": {},
   "source": [
    "# Transaction times for legitimate transactions and Fraudulent transactions.\n",
    "This code creates a figure with two subplots showing the distribution of transaction times for legitimate transactions and fraudulent transactions.\n",
    "\n",
    "First two lines of the code defines two variables, fraud and legit, which contain subsets of the \"credit_card_data\" dataframe. The \"fraud\" subset contains all rows where the Class column is 1 (indicating fraud), and the \"legit\" subset contains all rows where the Class column is 0 (indicating legitimate).\n",
    "\n",
    "Following Next code creates a figure with a size of 20 by 30 inches and sets the title to \"Fraud and Legit time distribution\". Then, it creates a 5x2 grid of subplots and selects the first subplot for plotting the distribution of legitimate transaction times. It uses the sns.histplot() function from the Seaborn library to create a histogram of transaction times for the not_froud subset of data, with the Transaction_time column on the x-axis and the count of transactions on the y-axis.\n",
    "\n",
    "The second subplot shows the distribution of fraudulent transaction times, and is created using the same \"sns.histplot()\" function but with the fraud subset of data and a different color ('#FF7F50', which is a shade of orange) for the bars.\n",
    "Finally, the \"plt.show()\" function is called to display the figure."
   ]
  },
  {
   "cell_type": "code",
   "execution_count": 13,
   "metadata": {},
   "outputs": [
    {
     "data": {
      "image/png": "[encoded data removed]",
      "text/plain": [
       "<Figure size 1440x2160 with 2 Axes>"
      ]
     },
     "metadata": {
      "needs_background": "light"
     },
     "output_type": "display_data"
    }
   ],
   "source": [
    "froud=fraud\n",
    "not_froud=legit\n",
    "\n",
    "plt.figure(figsize = (20, 30))\n",
    "plt.suptitle(\"Fraud and Legit time distribution\",fontweight=\"bold\", fontsize=30)\n",
    "plt.subplot(5,2,1)\n",
    "plt.title('Legit')\n",
    "sns.histplot(data = not_froud, x = \"Transaction_time\",color='#6495ED')\n",
    "plt.subplot(5,2,2)\n",
    "plt.title('Fraud')\n",
    "sns.histplot(data = froud, x = \"Transaction_time\" , color='#FF7F50')\n",
    "plt.show() "
   ]
  },
  {
   "cell_type": "code",
   "execution_count": null,
   "metadata": {},
   "outputs": [],
   "source": []
  },
  {
   "cell_type": "markdown",
   "metadata": {},
   "source": [
    "# Dimensions of the legit and fraud DataFrames."
   ]
  },
  {
   "cell_type": "markdown",
   "metadata": {},
   "source": [
    "This code prints the dimensions of the legit and fraud DataFrames.\n",
    "\n",
    "shape is a property of a Pandas DataFrame object that returns a tuple representing the dimensions of the DataFrame as (number of rows, number of columns).\n",
    "\n",
    "In this case, the output of print(legit.shape) will display the number of rows and columns in the legit DataFrame, and the output of print(fraud.shape) will display the number of rows and columns in the fraud DataFrame."
   ]
  },
  {
   "cell_type": "code",
   "execution_count": 14,
   "metadata": {
    "colab": {
     "base_uri": "https://localhost:8080/"
    },
    "id": "zsrMgOdoVnrV",
    "outputId": "801808fa-85b2-4dc7-a3e4-b4c2311bf828"
   },
   "outputs": [
    {
     "name": "stdout",
     "output_type": "stream",
     "text": [
      "(284315, 31)\n",
      "(492, 31)\n"
     ]
    }
   ],
   "source": [
    "print(legit.shape)\n",
    "print(fraud.shape)"
   ]
  },
  {
   "cell_type": "markdown",
   "metadata": {},
   "source": [
    "# Statistical measures of the data"
   ]
  },
  {
   "cell_type": "markdown",
   "metadata": {},
   "source": [
    "This code uses the Pandas 'describe()' method to generate summary statistics of a DataFrame or Series object, including count, mean, standard deviation, minimum, maximum, and various quartile values."
   ]
  },
  {
   "cell_type": "code",
   "execution_count": 15,
   "metadata": {
    "colab": {
     "base_uri": "https://localhost:8080/"
    },
    "id": "1s3KGshBVsTb",
    "outputId": "a98394a8-ed89-4c84-9013-bc807c3c641a"
   },
   "outputs": [
    {
     "data": {
      "text/plain": [
       "count    284315.000000\n",
       "mean         88.291022\n",
       "std         250.105092\n",
       "min           0.000000\n",
       "25%           5.650000\n",
       "50%          22.000000\n",
       "75%          77.050000\n",
       "max       25691.160000\n",
       "Name: Transaction_Amount, dtype: float64"
      ]
     },
     "execution_count": 15,
     "metadata": {},
     "output_type": "execute_result"
    }
   ],
   "source": [
    "legit.Transaction_Amount.describe()"
   ]
  },
  {
   "cell_type": "markdown",
   "metadata": {},
   "source": [
    "This code uses the Pandas 'describe()' method to generate summary statistics of a DataFrame or Series object, including count, mean, standard deviation, minimum, maximum, and various quartile values."
   ]
  },
  {
   "cell_type": "code",
   "execution_count": 16,
   "metadata": {
    "colab": {
     "base_uri": "https://localhost:8080/"
    },
    "id": "KkU3Mzr5V7fR",
    "outputId": "6cd48deb-2da1-4f51-dac0-06c79cf4ddca"
   },
   "outputs": [
    {
     "data": {
      "text/plain": [
       "count     492.000000\n",
       "mean      122.211321\n",
       "std       256.683288\n",
       "min         0.000000\n",
       "25%         1.000000\n",
       "50%         9.250000\n",
       "75%       105.890000\n",
       "max      2125.870000\n",
       "Name: Transaction_Amount, dtype: float64"
      ]
     },
     "execution_count": 16,
     "metadata": {},
     "output_type": "execute_result"
    }
   ],
   "source": [
    "fraud.Transaction_Amount.describe()"
   ]
  },
  {
   "cell_type": "markdown",
   "metadata": {},
   "source": [
    "# Compare the values for both transactions"
   ]
  },
  {
   "cell_type": "markdown",
   "metadata": {},
   "source": [
    "This code groups the credit_card_data DataFrame by the 'Class' column and computes the mean of all other numeric columns for each group using the mean() method.\n",
    "\n",
    "'groupby()' is a method provided by Pandas that groups a DataFrame by a specified column and returns a DataFrameGroupBy object.\n",
    "\n",
    "'mean()' is a method provided by Pandas that calculates the mean of all numeric columns in a DataFrameGroupBy object.\n",
    "\n",
    "In this case, the output of this code will be a DataFrame containing the mean values of all numeric columns in the \"credit_card_data\" DataFrame for the 'Class' groups (0 and 1)."
   ]
  },
  {
   "cell_type": "code",
   "execution_count": 17,
   "metadata": {
    "colab": {
     "base_uri": "https://localhost:8080/",
     "height": 235
    },
    "id": "aFUMMHwYWMvp",
    "outputId": "ee4974be-a63c-44da-c3a2-faebea93de5f"
   },
   "outputs": [
    {
     "data": {
      "text/html": [
       "<div>\n",
       "<style scoped>\n",
       "    .dataframe tbody tr th:only-of-type {\n",
       "        vertical-align: middle;\n",
       "    }\n",
       "\n",
       "    .dataframe tbody tr th {\n",
       "        vertical-align: top;\n",
       "    }\n",
       "\n",
       "    .dataframe thead th {\n",
       "        text-align: right;\n",
       "    }\n",
       "</style>\n",
       "<table border=\"1\" class=\"dataframe\">\n",
       "  <thead>\n",
       "    <tr style=\"text-align: right;\">\n",
       "      <th></th>\n",
       "      <th>Transaction_time</th>\n",
       "      <th>Transaction_id</th>\n",
       "      <th>Merchant_name</th>\n",
       "      <th>Merchant_category</th>\n",
       "      <th>Credit_limit</th>\n",
       "      <th>Transaction_currency</th>\n",
       "      <th>Merchant_location_city</th>\n",
       "      <th>Merchant_location_state</th>\n",
       "      <th>Merchant_location_country</th>\n",
       "      <th>Merchant_location_zipcode</th>\n",
       "      <th>...</th>\n",
       "      <th>Transaction_status</th>\n",
       "      <th>Decline_reason</th>\n",
       "      <th>Refund_status</th>\n",
       "      <th>Transaction_category</th>\n",
       "      <th>Interest_rate</th>\n",
       "      <th>Late_payment_fees</th>\n",
       "      <th>Minimum_payment_due</th>\n",
       "      <th>Total_balance</th>\n",
       "      <th>Card_usage_frequency</th>\n",
       "      <th>Transaction_Amount</th>\n",
       "    </tr>\n",
       "    <tr>\n",
       "      <th>Class</th>\n",
       "      <th></th>\n",
       "      <th></th>\n",
       "      <th></th>\n",
       "      <th></th>\n",
       "      <th></th>\n",
       "      <th></th>\n",
       "      <th></th>\n",
       "      <th></th>\n",
       "      <th></th>\n",
       "      <th></th>\n",
       "      <th></th>\n",
       "      <th></th>\n",
       "      <th></th>\n",
       "      <th></th>\n",
       "      <th></th>\n",
       "      <th></th>\n",
       "      <th></th>\n",
       "      <th></th>\n",
       "      <th></th>\n",
       "      <th></th>\n",
       "      <th></th>\n",
       "    </tr>\n",
       "  </thead>\n",
       "  <tbody>\n",
       "    <tr>\n",
       "      <th>0</th>\n",
       "      <td>94838.202258</td>\n",
       "      <td>0.008258</td>\n",
       "      <td>-0.006271</td>\n",
       "      <td>0.012171</td>\n",
       "      <td>-0.007860</td>\n",
       "      <td>0.005453</td>\n",
       "      <td>0.002419</td>\n",
       "      <td>0.009637</td>\n",
       "      <td>-0.000987</td>\n",
       "      <td>0.004467</td>\n",
       "      <td>...</td>\n",
       "      <td>-0.000644</td>\n",
       "      <td>-0.001235</td>\n",
       "      <td>-0.000024</td>\n",
       "      <td>0.000070</td>\n",
       "      <td>0.000182</td>\n",
       "      <td>-0.000072</td>\n",
       "      <td>-0.000089</td>\n",
       "      <td>-0.000295</td>\n",
       "      <td>-0.000131</td>\n",
       "      <td>88.291022</td>\n",
       "    </tr>\n",
       "    <tr>\n",
       "      <th>1</th>\n",
       "      <td>80746.806911</td>\n",
       "      <td>-4.771948</td>\n",
       "      <td>3.623778</td>\n",
       "      <td>-7.033281</td>\n",
       "      <td>4.542029</td>\n",
       "      <td>-3.151225</td>\n",
       "      <td>-1.397737</td>\n",
       "      <td>-5.568731</td>\n",
       "      <td>0.570636</td>\n",
       "      <td>-2.581123</td>\n",
       "      <td>...</td>\n",
       "      <td>0.372319</td>\n",
       "      <td>0.713588</td>\n",
       "      <td>0.014049</td>\n",
       "      <td>-0.040308</td>\n",
       "      <td>-0.105130</td>\n",
       "      <td>0.041449</td>\n",
       "      <td>0.051648</td>\n",
       "      <td>0.170575</td>\n",
       "      <td>0.075667</td>\n",
       "      <td>122.211321</td>\n",
       "    </tr>\n",
       "  </tbody>\n",
       "</table>\n",
       "<p>2 rows × 30 columns</p>\n",
       "</div>"
      ],
      "text/plain": [
       "       Transaction_time  Transaction_id  Merchant_name  Merchant_category  \\\n",
       "Class                                                                       \n",
       "0          94838.202258        0.008258      -0.006271           0.012171   \n",
       "1          80746.806911       -4.771948       3.623778          -7.033281   \n",
       "\n",
       "       Credit_limit  Transaction_currency  Merchant_location_city  \\\n",
       "Class                                                               \n",
       "0         -0.007860              0.005453                0.002419   \n",
       "1          4.542029             -3.151225               -1.397737   \n",
       "\n",
       "       Merchant_location_state  Merchant_location_country  \\\n",
       "Class                                                       \n",
       "0                     0.009637                  -0.000987   \n",
       "1                    -5.568731                   0.570636   \n",
       "\n",
       "       Merchant_location_zipcode  ...  Transaction_status  Decline_reason  \\\n",
       "Class                             ...                                       \n",
       "0                       0.004467  ...           -0.000644       -0.001235   \n",
       "1                      -2.581123  ...            0.372319        0.713588   \n",
       "\n",
       "       Refund_status  Transaction_category  Interest_rate  Late_payment_fees  \\\n",
       "Class                                                                          \n",
       "0          -0.000024              0.000070       0.000182          -0.000072   \n",
       "1           0.014049             -0.040308      -0.105130           0.041449   \n",
       "\n",
       "       Minimum_payment_due  Total_balance  Card_usage_frequency  \\\n",
       "Class                                                             \n",
       "0                -0.000089      -0.000295             -0.000131   \n",
       "1                 0.051648       0.170575              0.075667   \n",
       "\n",
       "       Transaction_Amount  \n",
       "Class                      \n",
       "0               88.291022  \n",
       "1              122.211321  \n",
       "\n",
       "[2 rows x 30 columns]"
      ]
     },
     "execution_count": 17,
     "metadata": {},
     "output_type": "execute_result"
    }
   ],
   "source": [
    "credit_card_data.groupby('Class').mean()"
   ]
  },
  {
   "cell_type": "markdown",
   "metadata": {
    "id": "ybHNYPpEW0N6"
   },
   "source": [
    "# Creation of New DataFrame"
   ]
  },
  {
   "cell_type": "markdown",
   "metadata": {
    "id": "MlXkIGEIW3KM"
   },
   "source": [
    "This code uses the Pandas 'sample()' method to randomly select 492 rows from the legit DataFrame.\n",
    "\n",
    "In this case, the output of this code will be a new DataFrame called \"legit_sample\" that contains a random sample of 492 rows from the 'legit' DataFrame."
   ]
  },
  {
   "cell_type": "code",
   "execution_count": 18,
   "metadata": {
    "id": "QtWT13mKWjJ_"
   },
   "outputs": [],
   "source": [
    "legit_sample = legit.sample(n=492)"
   ]
  },
  {
   "cell_type": "markdown",
   "metadata": {
    "id": "SNiYI_SmXeim"
   },
   "source": [
    "# Concatenating two DataFrames"
   ]
  },
  {
   "cell_type": "markdown",
   "metadata": {},
   "source": [
    "This code uses the Pandas \"concat()\" function to concatenate the 'legit_sample' and fraud DataFrames along the row axis (axis=0) into a new DataFrame called \"new_dataset\".\n",
    "\n",
    "In this case, the output of this code will be a new DataFrame called 'new_dataset' that contains all the rows from the 'legit_sample' DataFrame and all the rows from the 'fraud' DataFrame concatenated together along the row axis. This new DataFrame will have 984 rows (492 from legit_sample and 492 from fraud) and the same columns as the original \"credit_card_data\" DataFrame."
   ]
  },
  {
   "cell_type": "code",
   "execution_count": 19,
   "metadata": {
    "id": "0yiXrYiRXcnE"
   },
   "outputs": [],
   "source": [
    "new_dataset = pd.concat([legit_sample, fraud], axis=0)"
   ]
  },
  {
   "cell_type": "code",
   "execution_count": 20,
   "metadata": {},
   "outputs": [],
   "source": [
    "#new_dataset.to_csv('new_dataset.csv', index=False)"
   ]
  },
  {
   "cell_type": "markdown",
   "metadata": {},
   "source": [
    "#  countplot visualization of New_dataset"
   ]
  },
  {
   "cell_type": "markdown",
   "metadata": {},
   "source": [
    "This code creates a countplot using the Seaborn library to visualize the class distribution in the \"new_dataset\" DataFrame.\n",
    "\n",
    "In this case, the output of this code will be a visualization showing the count of observations in each class (0 or 1) in the \"new_dataset\" DataFrame. The for loop adds value labels to each bar, and the set_title(), set_xlabel(), and set_ylabel() methods are used to set the title and axis labels for the plot. Finally, the show() method is called to display the plot."
   ]
  },
  {
   "cell_type": "code",
   "execution_count": 21,
   "metadata": {},
   "outputs": [
    {
     "data": {
      "image/png": "[encoded data removed]",
      "text/plain": [
       "<Figure size 432x288 with 1 Axes>"
      ]
     },
     "metadata": {
      "needs_background": "light"
     },
     "output_type": "display_data"
    }
   ],
   "source": [
    "import seaborn as sns\n",
    "import matplotlib.pyplot as plt\n",
    "\n",
    "# create countplot\n",
    "ax = sns.countplot(x='Class', data=new_dataset)\n",
    "\n",
    "# add value labels to each bar\n",
    "for p in ax.patches:\n",
    "    ax.annotate('{:.1f}'.format(p.get_height()), (p.get_x()+0.4, p.get_height()+50))\n",
    "    ax.text(p.get_x() + p.get_width() / 2, p.get_height() + 100, '{:.0f}'.format(p.get_height()), ha='center')\n",
    "\n",
    "# set title and axis labels\n",
    "ax.set_title(\"Transaction Class Distribution\")\n",
    "ax.set_xlabel(\"Class\")\n",
    "ax.set_ylabel(\"Count\")\n",
    "\n",
    "# display plot\n",
    "plt.show()\n"
   ]
  },
  {
   "cell_type": "markdown",
   "metadata": {},
   "source": [
    "# First 5 rows of the new_dataset"
   ]
  },
  {
   "cell_type": "markdown",
   "metadata": {},
   "source": [
    "This code will display the first 5 rows of the new_dataset DataFrame using the head() method.\n",
    "\n",
    "'head()' is a method provided by Pandas that returns the first five rows of a DataFrame."
   ]
  },
  {
   "cell_type": "code",
   "execution_count": 22,
   "metadata": {
    "colab": {
     "base_uri": "https://localhost:8080/",
     "height": 297
    },
    "id": "UuLw43AXX0bq",
    "outputId": "34a8087e-c7f6-4cbc-bac0-1bb2bd858658"
   },
   "outputs": [
    {
     "data": {
      "text/html": [
       "<div>\n",
       "<style scoped>\n",
       "    .dataframe tbody tr th:only-of-type {\n",
       "        vertical-align: middle;\n",
       "    }\n",
       "\n",
       "    .dataframe tbody tr th {\n",
       "        vertical-align: top;\n",
       "    }\n",
       "\n",
       "    .dataframe thead th {\n",
       "        text-align: right;\n",
       "    }\n",
       "</style>\n",
       "<table border=\"1\" class=\"dataframe\">\n",
       "  <thead>\n",
       "    <tr style=\"text-align: right;\">\n",
       "      <th></th>\n",
       "      <th>Transaction_time</th>\n",
       "      <th>Transaction_id</th>\n",
       "      <th>Merchant_name</th>\n",
       "      <th>Merchant_category</th>\n",
       "      <th>Credit_limit</th>\n",
       "      <th>Transaction_currency</th>\n",
       "      <th>Merchant_location_city</th>\n",
       "      <th>Merchant_location_state</th>\n",
       "      <th>Merchant_location_country</th>\n",
       "      <th>Merchant_location_zipcode</th>\n",
       "      <th>...</th>\n",
       "      <th>Decline_reason</th>\n",
       "      <th>Refund_status</th>\n",
       "      <th>Transaction_category</th>\n",
       "      <th>Interest_rate</th>\n",
       "      <th>Late_payment_fees</th>\n",
       "      <th>Minimum_payment_due</th>\n",
       "      <th>Total_balance</th>\n",
       "      <th>Card_usage_frequency</th>\n",
       "      <th>Transaction_Amount</th>\n",
       "      <th>Class</th>\n",
       "    </tr>\n",
       "  </thead>\n",
       "  <tbody>\n",
       "    <tr>\n",
       "      <th>81976</th>\n",
       "      <td>59186.0</td>\n",
       "      <td>-0.037717</td>\n",
       "      <td>-3.503608</td>\n",
       "      <td>-0.397945</td>\n",
       "      <td>-0.597623</td>\n",
       "      <td>-2.514905</td>\n",
       "      <td>-1.019043</td>\n",
       "      <td>0.181415</td>\n",
       "      <td>-0.443856</td>\n",
       "      <td>-1.886368</td>\n",
       "      <td>...</td>\n",
       "      <td>0.140844</td>\n",
       "      <td>-1.086325</td>\n",
       "      <td>-0.537784</td>\n",
       "      <td>0.680012</td>\n",
       "      <td>-0.065006</td>\n",
       "      <td>-0.440590</td>\n",
       "      <td>-0.131647</td>\n",
       "      <td>0.161179</td>\n",
       "      <td>809.40</td>\n",
       "      <td>0</td>\n",
       "    </tr>\n",
       "    <tr>\n",
       "      <th>66608</th>\n",
       "      <td>52128.0</td>\n",
       "      <td>-2.448097</td>\n",
       "      <td>-3.296323</td>\n",
       "      <td>1.177298</td>\n",
       "      <td>-2.269732</td>\n",
       "      <td>-1.495612</td>\n",
       "      <td>-0.562266</td>\n",
       "      <td>1.980069</td>\n",
       "      <td>-0.508132</td>\n",
       "      <td>-2.354222</td>\n",
       "      <td>...</td>\n",
       "      <td>0.143260</td>\n",
       "      <td>-0.595808</td>\n",
       "      <td>1.521047</td>\n",
       "      <td>0.258914</td>\n",
       "      <td>0.897702</td>\n",
       "      <td>-0.545627</td>\n",
       "      <td>-0.423178</td>\n",
       "      <td>-0.100731</td>\n",
       "      <td>699.00</td>\n",
       "      <td>0</td>\n",
       "    </tr>\n",
       "    <tr>\n",
       "      <th>263765</th>\n",
       "      <td>161108.0</td>\n",
       "      <td>1.955041</td>\n",
       "      <td>-0.380783</td>\n",
       "      <td>-0.315013</td>\n",
       "      <td>0.330155</td>\n",
       "      <td>-0.509374</td>\n",
       "      <td>-0.086197</td>\n",
       "      <td>-0.627978</td>\n",
       "      <td>0.035994</td>\n",
       "      <td>1.054560</td>\n",
       "      <td>...</td>\n",
       "      <td>0.238197</td>\n",
       "      <td>0.968305</td>\n",
       "      <td>0.053208</td>\n",
       "      <td>-0.278602</td>\n",
       "      <td>-0.044999</td>\n",
       "      <td>-0.216780</td>\n",
       "      <td>0.045168</td>\n",
       "      <td>-0.047145</td>\n",
       "      <td>9.99</td>\n",
       "      <td>0</td>\n",
       "    </tr>\n",
       "    <tr>\n",
       "      <th>121164</th>\n",
       "      <td>76095.0</td>\n",
       "      <td>1.315287</td>\n",
       "      <td>-0.570815</td>\n",
       "      <td>0.161355</td>\n",
       "      <td>-0.604812</td>\n",
       "      <td>-0.971482</td>\n",
       "      <td>-1.154391</td>\n",
       "      <td>-0.274235</td>\n",
       "      <td>-0.316835</td>\n",
       "      <td>-0.934468</td>\n",
       "      <td>...</td>\n",
       "      <td>0.249264</td>\n",
       "      <td>0.536974</td>\n",
       "      <td>-0.167938</td>\n",
       "      <td>0.423565</td>\n",
       "      <td>0.617502</td>\n",
       "      <td>-0.122878</td>\n",
       "      <td>-0.015415</td>\n",
       "      <td>0.020911</td>\n",
       "      <td>68.80</td>\n",
       "      <td>0</td>\n",
       "    </tr>\n",
       "    <tr>\n",
       "      <th>39366</th>\n",
       "      <td>39806.0</td>\n",
       "      <td>1.237968</td>\n",
       "      <td>0.416957</td>\n",
       "      <td>0.311356</td>\n",
       "      <td>1.113345</td>\n",
       "      <td>-0.197230</td>\n",
       "      <td>-0.946205</td>\n",
       "      <td>0.282015</td>\n",
       "      <td>-0.283544</td>\n",
       "      <td>-0.149039</td>\n",
       "      <td>...</td>\n",
       "      <td>0.039677</td>\n",
       "      <td>0.195895</td>\n",
       "      <td>-0.112453</td>\n",
       "      <td>0.421864</td>\n",
       "      <td>0.715534</td>\n",
       "      <td>-0.331728</td>\n",
       "      <td>0.018726</td>\n",
       "      <td>0.022858</td>\n",
       "      <td>7.96</td>\n",
       "      <td>0</td>\n",
       "    </tr>\n",
       "  </tbody>\n",
       "</table>\n",
       "<p>5 rows × 31 columns</p>\n",
       "</div>"
      ],
      "text/plain": [
       "        Transaction_time  Transaction_id  Merchant_name  Merchant_category  \\\n",
       "81976            59186.0       -0.037717      -3.503608          -0.397945   \n",
       "66608            52128.0       -2.448097      -3.296323           1.177298   \n",
       "263765          161108.0        1.955041      -0.380783          -0.315013   \n",
       "121164           76095.0        1.315287      -0.570815           0.161355   \n",
       "39366            39806.0        1.237968       0.416957           0.311356   \n",
       "\n",
       "        Credit_limit  Transaction_currency  Merchant_location_city  \\\n",
       "81976      -0.597623             -2.514905               -1.019043   \n",
       "66608      -2.269732             -1.495612               -0.562266   \n",
       "263765      0.330155             -0.509374               -0.086197   \n",
       "121164     -0.604812             -0.971482               -1.154391   \n",
       "39366       1.113345             -0.197230               -0.946205   \n",
       "\n",
       "        Merchant_location_state  Merchant_location_country  \\\n",
       "81976                  0.181415                  -0.443856   \n",
       "66608                  1.980069                  -0.508132   \n",
       "263765                -0.627978                   0.035994   \n",
       "121164                -0.274235                  -0.316835   \n",
       "39366                  0.282015                  -0.283544   \n",
       "\n",
       "        Merchant_location_zipcode  ...  Decline_reason  Refund_status  \\\n",
       "81976                   -1.886368  ...        0.140844      -1.086325   \n",
       "66608                   -2.354222  ...        0.143260      -0.595808   \n",
       "263765                   1.054560  ...        0.238197       0.968305   \n",
       "121164                  -0.934468  ...        0.249264       0.536974   \n",
       "39366                   -0.149039  ...        0.039677       0.195895   \n",
       "\n",
       "        Transaction_category  Interest_rate  Late_payment_fees  \\\n",
       "81976              -0.537784       0.680012          -0.065006   \n",
       "66608               1.521047       0.258914           0.897702   \n",
       "263765              0.053208      -0.278602          -0.044999   \n",
       "121164             -0.167938       0.423565           0.617502   \n",
       "39366              -0.112453       0.421864           0.715534   \n",
       "\n",
       "        Minimum_payment_due  Total_balance  Card_usage_frequency  \\\n",
       "81976             -0.440590      -0.131647              0.161179   \n",
       "66608             -0.545627      -0.423178             -0.100731   \n",
       "263765            -0.216780       0.045168             -0.047145   \n",
       "121164            -0.122878      -0.015415              0.020911   \n",
       "39366             -0.331728       0.018726              0.022858   \n",
       "\n",
       "        Transaction_Amount  Class  \n",
       "81976               809.40      0  \n",
       "66608               699.00      0  \n",
       "263765                9.99      0  \n",
       "121164               68.80      0  \n",
       "39366                 7.96      0  \n",
       "\n",
       "[5 rows x 31 columns]"
      ]
     },
     "execution_count": 22,
     "metadata": {},
     "output_type": "execute_result"
    }
   ],
   "source": [
    "new_dataset.head()"
   ]
  },
  {
   "cell_type": "markdown",
   "metadata": {},
   "source": [
    "# Last 5 rows of the new_dataset"
   ]
  },
  {
   "cell_type": "markdown",
   "metadata": {},
   "source": [
    "This code will display the Last 5 rows of the new_dataset DataFrame using the tail() method.\n",
    "\n",
    "'tail()' is a method provided by Pandas that returns the Last five rows of a DataFrame."
   ]
  },
  {
   "cell_type": "code",
   "execution_count": 23,
   "metadata": {
    "colab": {
     "base_uri": "https://localhost:8080/",
     "height": 297
    },
    "id": "n_Rjt1qDX3AQ",
    "outputId": "79c6dcb4-25e4-47a3-ff20-2a4fd42a835e"
   },
   "outputs": [
    {
     "data": {
      "text/html": [
       "<div>\n",
       "<style scoped>\n",
       "    .dataframe tbody tr th:only-of-type {\n",
       "        vertical-align: middle;\n",
       "    }\n",
       "\n",
       "    .dataframe tbody tr th {\n",
       "        vertical-align: top;\n",
       "    }\n",
       "\n",
       "    .dataframe thead th {\n",
       "        text-align: right;\n",
       "    }\n",
       "</style>\n",
       "<table border=\"1\" class=\"dataframe\">\n",
       "  <thead>\n",
       "    <tr style=\"text-align: right;\">\n",
       "      <th></th>\n",
       "      <th>Transaction_time</th>\n",
       "      <th>Transaction_id</th>\n",
       "      <th>Merchant_name</th>\n",
       "      <th>Merchant_category</th>\n",
       "      <th>Credit_limit</th>\n",
       "      <th>Transaction_currency</th>\n",
       "      <th>Merchant_location_city</th>\n",
       "      <th>Merchant_location_state</th>\n",
       "      <th>Merchant_location_country</th>\n",
       "      <th>Merchant_location_zipcode</th>\n",
       "      <th>...</th>\n",
       "      <th>Decline_reason</th>\n",
       "      <th>Refund_status</th>\n",
       "      <th>Transaction_category</th>\n",
       "      <th>Interest_rate</th>\n",
       "      <th>Late_payment_fees</th>\n",
       "      <th>Minimum_payment_due</th>\n",
       "      <th>Total_balance</th>\n",
       "      <th>Card_usage_frequency</th>\n",
       "      <th>Transaction_Amount</th>\n",
       "      <th>Class</th>\n",
       "    </tr>\n",
       "  </thead>\n",
       "  <tbody>\n",
       "    <tr>\n",
       "      <th>279863</th>\n",
       "      <td>169142.0</td>\n",
       "      <td>-1.927883</td>\n",
       "      <td>1.125653</td>\n",
       "      <td>-4.518331</td>\n",
       "      <td>1.749293</td>\n",
       "      <td>-1.566487</td>\n",
       "      <td>-2.010494</td>\n",
       "      <td>-0.882850</td>\n",
       "      <td>0.697211</td>\n",
       "      <td>-2.064945</td>\n",
       "      <td>...</td>\n",
       "      <td>0.778584</td>\n",
       "      <td>-0.319189</td>\n",
       "      <td>0.639419</td>\n",
       "      <td>-0.294885</td>\n",
       "      <td>0.537503</td>\n",
       "      <td>0.788395</td>\n",
       "      <td>0.292680</td>\n",
       "      <td>0.147968</td>\n",
       "      <td>390.00</td>\n",
       "      <td>1</td>\n",
       "    </tr>\n",
       "    <tr>\n",
       "      <th>280143</th>\n",
       "      <td>169347.0</td>\n",
       "      <td>1.378559</td>\n",
       "      <td>1.289381</td>\n",
       "      <td>-5.004247</td>\n",
       "      <td>1.411850</td>\n",
       "      <td>0.442581</td>\n",
       "      <td>-1.326536</td>\n",
       "      <td>-1.413170</td>\n",
       "      <td>0.248525</td>\n",
       "      <td>-1.127396</td>\n",
       "      <td>...</td>\n",
       "      <td>0.370612</td>\n",
       "      <td>0.028234</td>\n",
       "      <td>-0.145640</td>\n",
       "      <td>-0.081049</td>\n",
       "      <td>0.521875</td>\n",
       "      <td>0.739467</td>\n",
       "      <td>0.389152</td>\n",
       "      <td>0.186637</td>\n",
       "      <td>0.76</td>\n",
       "      <td>1</td>\n",
       "    </tr>\n",
       "    <tr>\n",
       "      <th>280149</th>\n",
       "      <td>169351.0</td>\n",
       "      <td>-0.676143</td>\n",
       "      <td>1.126366</td>\n",
       "      <td>-2.213700</td>\n",
       "      <td>0.468308</td>\n",
       "      <td>-1.120541</td>\n",
       "      <td>-0.003346</td>\n",
       "      <td>-2.234739</td>\n",
       "      <td>1.210158</td>\n",
       "      <td>-0.652250</td>\n",
       "      <td>...</td>\n",
       "      <td>0.751826</td>\n",
       "      <td>0.834108</td>\n",
       "      <td>0.190944</td>\n",
       "      <td>0.032070</td>\n",
       "      <td>-0.739695</td>\n",
       "      <td>0.471111</td>\n",
       "      <td>0.385107</td>\n",
       "      <td>0.194361</td>\n",
       "      <td>77.89</td>\n",
       "      <td>1</td>\n",
       "    </tr>\n",
       "    <tr>\n",
       "      <th>281144</th>\n",
       "      <td>169966.0</td>\n",
       "      <td>-3.113832</td>\n",
       "      <td>0.585864</td>\n",
       "      <td>-5.399730</td>\n",
       "      <td>1.817092</td>\n",
       "      <td>-0.840618</td>\n",
       "      <td>-2.943548</td>\n",
       "      <td>-2.208002</td>\n",
       "      <td>1.058733</td>\n",
       "      <td>-1.632333</td>\n",
       "      <td>...</td>\n",
       "      <td>0.583276</td>\n",
       "      <td>-0.269209</td>\n",
       "      <td>-0.456108</td>\n",
       "      <td>-0.183659</td>\n",
       "      <td>-0.328168</td>\n",
       "      <td>0.606116</td>\n",
       "      <td>0.884876</td>\n",
       "      <td>-0.253700</td>\n",
       "      <td>245.00</td>\n",
       "      <td>1</td>\n",
       "    </tr>\n",
       "    <tr>\n",
       "      <th>281674</th>\n",
       "      <td>170348.0</td>\n",
       "      <td>1.991976</td>\n",
       "      <td>0.158476</td>\n",
       "      <td>-2.583441</td>\n",
       "      <td>0.408670</td>\n",
       "      <td>1.151147</td>\n",
       "      <td>-0.096695</td>\n",
       "      <td>0.223050</td>\n",
       "      <td>-0.068384</td>\n",
       "      <td>0.577829</td>\n",
       "      <td>...</td>\n",
       "      <td>-0.164350</td>\n",
       "      <td>-0.295135</td>\n",
       "      <td>-0.072173</td>\n",
       "      <td>-0.450261</td>\n",
       "      <td>0.313267</td>\n",
       "      <td>-0.289617</td>\n",
       "      <td>0.002988</td>\n",
       "      <td>-0.015309</td>\n",
       "      <td>42.53</td>\n",
       "      <td>1</td>\n",
       "    </tr>\n",
       "  </tbody>\n",
       "</table>\n",
       "<p>5 rows × 31 columns</p>\n",
       "</div>"
      ],
      "text/plain": [
       "        Transaction_time  Transaction_id  Merchant_name  Merchant_category  \\\n",
       "279863          169142.0       -1.927883       1.125653          -4.518331   \n",
       "280143          169347.0        1.378559       1.289381          -5.004247   \n",
       "280149          169351.0       -0.676143       1.126366          -2.213700   \n",
       "281144          169966.0       -3.113832       0.585864          -5.399730   \n",
       "281674          170348.0        1.991976       0.158476          -2.583441   \n",
       "\n",
       "        Credit_limit  Transaction_currency  Merchant_location_city  \\\n",
       "279863      1.749293             -1.566487               -2.010494   \n",
       "280143      1.411850              0.442581               -1.326536   \n",
       "280149      0.468308             -1.120541               -0.003346   \n",
       "281144      1.817092             -0.840618               -2.943548   \n",
       "281674      0.408670              1.151147               -0.096695   \n",
       "\n",
       "        Merchant_location_state  Merchant_location_country  \\\n",
       "279863                -0.882850                   0.697211   \n",
       "280143                -1.413170                   0.248525   \n",
       "280149                -2.234739                   1.210158   \n",
       "281144                -2.208002                   1.058733   \n",
       "281674                 0.223050                  -0.068384   \n",
       "\n",
       "        Merchant_location_zipcode  ...  Decline_reason  Refund_status  \\\n",
       "279863                  -2.064945  ...        0.778584      -0.319189   \n",
       "280143                  -1.127396  ...        0.370612       0.028234   \n",
       "280149                  -0.652250  ...        0.751826       0.834108   \n",
       "281144                  -1.632333  ...        0.583276      -0.269209   \n",
       "281674                   0.577829  ...       -0.164350      -0.295135   \n",
       "\n",
       "        Transaction_category  Interest_rate  Late_payment_fees  \\\n",
       "279863              0.639419      -0.294885           0.537503   \n",
       "280143             -0.145640      -0.081049           0.521875   \n",
       "280149              0.190944       0.032070          -0.739695   \n",
       "281144             -0.456108      -0.183659          -0.328168   \n",
       "281674             -0.072173      -0.450261           0.313267   \n",
       "\n",
       "        Minimum_payment_due  Total_balance  Card_usage_frequency  \\\n",
       "279863             0.788395       0.292680              0.147968   \n",
       "280143             0.739467       0.389152              0.186637   \n",
       "280149             0.471111       0.385107              0.194361   \n",
       "281144             0.606116       0.884876             -0.253700   \n",
       "281674            -0.289617       0.002988             -0.015309   \n",
       "\n",
       "        Transaction_Amount  Class  \n",
       "279863              390.00      1  \n",
       "280143                0.76      1  \n",
       "280149               77.89      1  \n",
       "281144              245.00      1  \n",
       "281674               42.53      1  \n",
       "\n",
       "[5 rows x 31 columns]"
      ]
     },
     "execution_count": 23,
     "metadata": {},
     "output_type": "execute_result"
    }
   ],
   "source": [
    "new_dataset.tail()"
   ]
  },
  {
   "cell_type": "markdown",
   "metadata": {},
   "source": [
    "# Count of each unique value in the 'Class' column of the new_dataset"
   ]
  },
  {
   "cell_type": "markdown",
   "metadata": {},
   "source": [
    "This code will return the count of each unique value in the 'Class' column of the new_dataset DataFrame using the 'value_counts()' method.\n",
    "\n",
    "\"value_counts()\" is a method provided by Pandas that returns a Series containing counts of unique values in a DataFrame.\n",
    "\n",
    "In this case, the output of this code will be a Series object with two values: the count of transactions with a class of 0 and the count of transactions with a class of 1 in the 'new_dataset' DataFrame. Since we combined 492 legitimate transactions with 492 fraudulent transactions in the new_dataset DataFrame, the output should be equal to Series([492, 492])."
   ]
  },
  {
   "cell_type": "code",
   "execution_count": 24,
   "metadata": {
    "colab": {
     "base_uri": "https://localhost:8080/"
    },
    "id": "bFsRcj0gX-3M",
    "outputId": "6da46c3a-262e-468f-8188-e55d84e1c474"
   },
   "outputs": [
    {
     "data": {
      "text/plain": [
       "0    492\n",
       "1    492\n",
       "Name: Class, dtype: int64"
      ]
     },
     "execution_count": 24,
     "metadata": {},
     "output_type": "execute_result"
    }
   ],
   "source": [
    "new_dataset['Class'].value_counts()"
   ]
  },
  {
   "cell_type": "markdown",
   "metadata": {},
   "source": [
    "# comparing the average values of each variable between the two classes"
   ]
  },
  {
   "cell_type": "markdown",
   "metadata": {},
   "source": [
    "This code will group the 'new_dataset' DataFrame by the 'Class' column and calculate the mean of each column for each group using the 'groupby()' and 'mean()' methods.\n",
    "\n",
    "The output of this code will be a DataFrame with two rows, one for each class (0 or 1) in the 'new_dataset' DataFrame. \n",
    "\n",
    "The columns in the output will be the same as the columns in the input DataFrame (new_dataset), and the values will be the mean of each column for each class. This can be useful for comparing the average values of each variable between the two classes."
   ]
  },
  {
   "cell_type": "code",
   "execution_count": 25,
   "metadata": {
    "colab": {
     "base_uri": "https://localhost:8080/",
     "height": 235
    },
    "id": "jan1xMeWYLrM",
    "outputId": "95bb198a-d579-4783-8909-5d8ceec3cd42"
   },
   "outputs": [
    {
     "data": {
      "text/html": [
       "<div>\n",
       "<style scoped>\n",
       "    .dataframe tbody tr th:only-of-type {\n",
       "        vertical-align: middle;\n",
       "    }\n",
       "\n",
       "    .dataframe tbody tr th {\n",
       "        vertical-align: top;\n",
       "    }\n",
       "\n",
       "    .dataframe thead th {\n",
       "        text-align: right;\n",
       "    }\n",
       "</style>\n",
       "<table border=\"1\" class=\"dataframe\">\n",
       "  <thead>\n",
       "    <tr style=\"text-align: right;\">\n",
       "      <th></th>\n",
       "      <th>Transaction_time</th>\n",
       "      <th>Transaction_id</th>\n",
       "      <th>Merchant_name</th>\n",
       "      <th>Merchant_category</th>\n",
       "      <th>Credit_limit</th>\n",
       "      <th>Transaction_currency</th>\n",
       "      <th>Merchant_location_city</th>\n",
       "      <th>Merchant_location_state</th>\n",
       "      <th>Merchant_location_country</th>\n",
       "      <th>Merchant_location_zipcode</th>\n",
       "      <th>...</th>\n",
       "      <th>Transaction_status</th>\n",
       "      <th>Decline_reason</th>\n",
       "      <th>Refund_status</th>\n",
       "      <th>Transaction_category</th>\n",
       "      <th>Interest_rate</th>\n",
       "      <th>Late_payment_fees</th>\n",
       "      <th>Minimum_payment_due</th>\n",
       "      <th>Total_balance</th>\n",
       "      <th>Card_usage_frequency</th>\n",
       "      <th>Transaction_Amount</th>\n",
       "    </tr>\n",
       "    <tr>\n",
       "      <th>Class</th>\n",
       "      <th></th>\n",
       "      <th></th>\n",
       "      <th></th>\n",
       "      <th></th>\n",
       "      <th></th>\n",
       "      <th></th>\n",
       "      <th></th>\n",
       "      <th></th>\n",
       "      <th></th>\n",
       "      <th></th>\n",
       "      <th></th>\n",
       "      <th></th>\n",
       "      <th></th>\n",
       "      <th></th>\n",
       "      <th></th>\n",
       "      <th></th>\n",
       "      <th></th>\n",
       "      <th></th>\n",
       "      <th></th>\n",
       "      <th></th>\n",
       "      <th></th>\n",
       "    </tr>\n",
       "  </thead>\n",
       "  <tbody>\n",
       "    <tr>\n",
       "      <th>0</th>\n",
       "      <td>94030.784553</td>\n",
       "      <td>0.090964</td>\n",
       "      <td>-0.004884</td>\n",
       "      <td>0.019409</td>\n",
       "      <td>-0.013782</td>\n",
       "      <td>-0.024371</td>\n",
       "      <td>-0.071488</td>\n",
       "      <td>0.063180</td>\n",
       "      <td>-0.041163</td>\n",
       "      <td>-0.035642</td>\n",
       "      <td>...</td>\n",
       "      <td>0.009603</td>\n",
       "      <td>0.016395</td>\n",
       "      <td>-0.039456</td>\n",
       "      <td>-0.017933</td>\n",
       "      <td>0.001926</td>\n",
       "      <td>0.005807</td>\n",
       "      <td>0.005245</td>\n",
       "      <td>-0.012206</td>\n",
       "      <td>0.018122</td>\n",
       "      <td>96.230163</td>\n",
       "    </tr>\n",
       "    <tr>\n",
       "      <th>1</th>\n",
       "      <td>80746.806911</td>\n",
       "      <td>-4.771948</td>\n",
       "      <td>3.623778</td>\n",
       "      <td>-7.033281</td>\n",
       "      <td>4.542029</td>\n",
       "      <td>-3.151225</td>\n",
       "      <td>-1.397737</td>\n",
       "      <td>-5.568731</td>\n",
       "      <td>0.570636</td>\n",
       "      <td>-2.581123</td>\n",
       "      <td>...</td>\n",
       "      <td>0.372319</td>\n",
       "      <td>0.713588</td>\n",
       "      <td>0.014049</td>\n",
       "      <td>-0.040308</td>\n",
       "      <td>-0.105130</td>\n",
       "      <td>0.041449</td>\n",
       "      <td>0.051648</td>\n",
       "      <td>0.170575</td>\n",
       "      <td>0.075667</td>\n",
       "      <td>122.211321</td>\n",
       "    </tr>\n",
       "  </tbody>\n",
       "</table>\n",
       "<p>2 rows × 30 columns</p>\n",
       "</div>"
      ],
      "text/plain": [
       "       Transaction_time  Transaction_id  Merchant_name  Merchant_category  \\\n",
       "Class                                                                       \n",
       "0          94030.784553        0.090964      -0.004884           0.019409   \n",
       "1          80746.806911       -4.771948       3.623778          -7.033281   \n",
       "\n",
       "       Credit_limit  Transaction_currency  Merchant_location_city  \\\n",
       "Class                                                               \n",
       "0         -0.013782             -0.024371               -0.071488   \n",
       "1          4.542029             -3.151225               -1.397737   \n",
       "\n",
       "       Merchant_location_state  Merchant_location_country  \\\n",
       "Class                                                       \n",
       "0                     0.063180                  -0.041163   \n",
       "1                    -5.568731                   0.570636   \n",
       "\n",
       "       Merchant_location_zipcode  ...  Transaction_status  Decline_reason  \\\n",
       "Class                             ...                                       \n",
       "0                      -0.035642  ...            0.009603        0.016395   \n",
       "1                      -2.581123  ...            0.372319        0.713588   \n",
       "\n",
       "       Refund_status  Transaction_category  Interest_rate  Late_payment_fees  \\\n",
       "Class                                                                          \n",
       "0          -0.039456             -0.017933       0.001926           0.005807   \n",
       "1           0.014049             -0.040308      -0.105130           0.041449   \n",
       "\n",
       "       Minimum_payment_due  Total_balance  Card_usage_frequency  \\\n",
       "Class                                                             \n",
       "0                 0.005245      -0.012206              0.018122   \n",
       "1                 0.051648       0.170575              0.075667   \n",
       "\n",
       "       Transaction_Amount  \n",
       "Class                      \n",
       "0               96.230163  \n",
       "1              122.211321  \n",
       "\n",
       "[2 rows x 30 columns]"
      ]
     },
     "execution_count": 25,
     "metadata": {},
     "output_type": "execute_result"
    }
   ],
   "source": [
    "new_dataset.groupby('Class').mean()"
   ]
  },
  {
   "cell_type": "code",
   "execution_count": 26,
   "metadata": {},
   "outputs": [
    {
     "data": {
      "text/plain": [
       "(984, 31)"
      ]
     },
     "execution_count": 26,
     "metadata": {},
     "output_type": "execute_result"
    }
   ],
   "source": [
    "new_dataset.shape"
   ]
  },
  {
   "cell_type": "code",
   "execution_count": 27,
   "metadata": {},
   "outputs": [],
   "source": [
    "#new_dataset.to_csv('1_transactions.csv', index=False)"
   ]
  },
  {
   "cell_type": "markdown",
   "metadata": {
    "id": "wbe0g12oYhyK"
   },
   "source": [
    "# Splitting the data into Features & Targets"
   ]
  },
  {
   "cell_type": "markdown",
   "metadata": {},
   "source": [
    "In this code, we are preparing the data for training a machine learning model.\n",
    "\n",
    "\"new_dataset.drop(columns='Class', axis=1)\" will create a new DataFrame X that contains all columns of new_dataset except for the 'Class' column. This is done using the 'drop()' method provided by Pandas, which takes the columns to be dropped as a list and the axis parameter (in this case, axis=1 means that we want to drop columns).\n",
    "\n",
    "\"new_dataset['Class']\" will create a Pandas Series 'Y' that contains only the 'Class' column of new_dataset.\n",
    "\n",
    "By doing this, we are separating the input features (stored in X) from the output/target variable (stored in Y). This is a common practice in supervised learning tasks, where we use the input features to predict the output variable. In this case, we will use X and Y to train a machine learning model to predict whether a transaction is fraudulent or not."
   ]
  },
  {
   "cell_type": "code",
   "execution_count": 28,
   "metadata": {
    "id": "oiC0OOyUYUoD"
   },
   "outputs": [],
   "source": [
    "X = new_dataset.drop(columns='Class', axis=1)\n",
    "Y = new_dataset['Class']"
   ]
  },
  {
   "cell_type": "markdown",
   "metadata": {},
   "source": [
    "# Feature for each transaction in the dataset('X')\n"
   ]
  },
  {
   "cell_type": "code",
   "execution_count": 29,
   "metadata": {},
   "outputs": [
    {
     "data": {
      "text/plain": [
       "(984, 30)"
      ]
     },
     "execution_count": 29,
     "metadata": {},
     "output_type": "execute_result"
    }
   ],
   "source": [
    "X.shape"
   ]
  },
  {
   "cell_type": "markdown",
   "metadata": {},
   "source": [
    "This will print the 'X' DataFrame, which contains all columns of 'new_dataset' except for the 'Class' column. Each row in 'X' corresponds to a transaction and each column represents a feature or attribute of that transaction. By printing 'X', you can see the values of each feature for each transaction in the dataset."
   ]
  },
  {
   "cell_type": "code",
   "execution_count": 30,
   "metadata": {
    "colab": {
     "base_uri": "https://localhost:8080/"
    },
    "id": "9u7wbWqzYyrI",
    "outputId": "069579c1-f1e5-4887-c949-56eaed612185"
   },
   "outputs": [
    {
     "name": "stdout",
     "output_type": "stream",
     "text": [
      "        Transaction_time  Transaction_id  Merchant_name  Merchant_category  \\\n",
      "81976            59186.0       -0.037717      -3.503608          -0.397945   \n",
      "66608            52128.0       -2.448097      -3.296323           1.177298   \n",
      "263765          161108.0        1.955041      -0.380783          -0.315013   \n",
      "121164           76095.0        1.315287      -0.570815           0.161355   \n",
      "39366            39806.0        1.237968       0.416957           0.311356   \n",
      "...                  ...             ...            ...                ...   \n",
      "279863          169142.0       -1.927883       1.125653          -4.518331   \n",
      "280143          169347.0        1.378559       1.289381          -5.004247   \n",
      "280149          169351.0       -0.676143       1.126366          -2.213700   \n",
      "281144          169966.0       -3.113832       0.585864          -5.399730   \n",
      "281674          170348.0        1.991976       0.158476          -2.583441   \n",
      "\n",
      "        Credit_limit  Transaction_currency  Merchant_location_city  \\\n",
      "81976      -0.597623             -2.514905               -1.019043   \n",
      "66608      -2.269732             -1.495612               -0.562266   \n",
      "263765      0.330155             -0.509374               -0.086197   \n",
      "121164     -0.604812             -0.971482               -1.154391   \n",
      "39366       1.113345             -0.197230               -0.946205   \n",
      "...              ...                   ...                     ...   \n",
      "279863      1.749293             -1.566487               -2.010494   \n",
      "280143      1.411850              0.442581               -1.326536   \n",
      "280149      0.468308             -1.120541               -0.003346   \n",
      "281144      1.817092             -0.840618               -2.943548   \n",
      "281674      0.408670              1.151147               -0.096695   \n",
      "\n",
      "        Merchant_location_state  Merchant_location_country  \\\n",
      "81976                  0.181415                  -0.443856   \n",
      "66608                  1.980069                  -0.508132   \n",
      "263765                -0.627978                   0.035994   \n",
      "121164                -0.274235                  -0.316835   \n",
      "39366                  0.282015                  -0.283544   \n",
      "...                         ...                        ...   \n",
      "279863                -0.882850                   0.697211   \n",
      "280143                -1.413170                   0.248525   \n",
      "280149                -2.234739                   1.210158   \n",
      "281144                -2.208002                   1.058733   \n",
      "281674                 0.223050                  -0.068384   \n",
      "\n",
      "        Merchant_location_zipcode  ...  Transaction_status  Decline_reason  \\\n",
      "81976                   -1.886368  ...            1.213015        0.140844   \n",
      "66608                   -2.354222  ...            1.432416        0.143260   \n",
      "263765                   1.054560  ...           -0.125390        0.238197   \n",
      "121164                  -0.934468  ...            0.198516        0.249264   \n",
      "39366                   -0.149039  ...           -0.081153        0.039677   \n",
      "...                           ...  ...                 ...             ...   \n",
      "279863                  -2.064945  ...            1.252967        0.778584   \n",
      "280143                  -1.127396  ...            0.226138        0.370612   \n",
      "280149                  -0.652250  ...            0.247968        0.751826   \n",
      "281144                  -1.632333  ...            0.306271        0.583276   \n",
      "281674                   0.577829  ...           -0.017652       -0.164350   \n",
      "\n",
      "        Refund_status  Transaction_category  Interest_rate  Late_payment_fees  \\\n",
      "81976       -1.086325             -0.537784       0.680012          -0.065006   \n",
      "66608       -0.595808              1.521047       0.258914           0.897702   \n",
      "263765       0.968305              0.053208      -0.278602          -0.044999   \n",
      "121164       0.536974             -0.167938       0.423565           0.617502   \n",
      "39366        0.195895             -0.112453       0.421864           0.715534   \n",
      "...               ...                   ...            ...                ...   \n",
      "279863      -0.319189              0.639419      -0.294885           0.537503   \n",
      "280143       0.028234             -0.145640      -0.081049           0.521875   \n",
      "280149       0.834108              0.190944       0.032070          -0.739695   \n",
      "281144      -0.269209             -0.456108      -0.183659          -0.328168   \n",
      "281674      -0.295135             -0.072173      -0.450261           0.313267   \n",
      "\n",
      "        Minimum_payment_due  Total_balance  Card_usage_frequency  \\\n",
      "81976             -0.440590      -0.131647              0.161179   \n",
      "66608             -0.545627      -0.423178             -0.100731   \n",
      "263765            -0.216780       0.045168             -0.047145   \n",
      "121164            -0.122878      -0.015415              0.020911   \n",
      "39366             -0.331728       0.018726              0.022858   \n",
      "...                     ...            ...                   ...   \n",
      "279863             0.788395       0.292680              0.147968   \n",
      "280143             0.739467       0.389152              0.186637   \n",
      "280149             0.471111       0.385107              0.194361   \n",
      "281144             0.606116       0.884876             -0.253700   \n",
      "281674            -0.289617       0.002988             -0.015309   \n",
      "\n",
      "        Transaction_Amount  \n",
      "81976               809.40  \n",
      "66608               699.00  \n",
      "263765                9.99  \n",
      "121164               68.80  \n",
      "39366                 7.96  \n",
      "...                    ...  \n",
      "279863              390.00  \n",
      "280143                0.76  \n",
      "280149               77.89  \n",
      "281144              245.00  \n",
      "281674               42.53  \n",
      "\n",
      "[984 rows x 30 columns]\n"
     ]
    }
   ],
   "source": [
    "print(X)"
   ]
  },
  {
   "cell_type": "markdown",
   "metadata": {},
   "source": [
    "# Class of each transaction in the dataset('Y')"
   ]
  },
  {
   "cell_type": "markdown",
   "metadata": {},
   "source": [
    "This will print the 'Y' Pandas Series, which contains only the 'Class' column of \"new_dataset\". Each element in 'Y' corresponds to the class of a transaction - whether it is a legitimate transaction (0) or a fraudulent transaction (1).\n",
    "\n",
    "By printing 'Y', you can see the class of each transaction in the dataset. This is the target variable that we want to predict using the input features in 'X'."
   ]
  },
  {
   "cell_type": "code",
   "execution_count": 31,
   "metadata": {
    "colab": {
     "base_uri": "https://localhost:8080/"
    },
    "id": "EHnRPzZvYz-F",
    "outputId": "2794202e-b8cd-45d9-a161-3f45651c92c2"
   },
   "outputs": [
    {
     "name": "stdout",
     "output_type": "stream",
     "text": [
      "81976     0\n",
      "66608     0\n",
      "263765    0\n",
      "121164    0\n",
      "39366     0\n",
      "         ..\n",
      "279863    1\n",
      "280143    1\n",
      "280149    1\n",
      "281144    1\n",
      "281674    1\n",
      "Name: Class, Length: 984, dtype: int64\n"
     ]
    }
   ],
   "source": [
    "print(Y)"
   ]
  },
  {
   "cell_type": "markdown",
   "metadata": {
    "id": "78wEbV41Y6j3"
   },
   "source": [
    "# Split the data into Training data & Testing Data"
   ]
  },
  {
   "cell_type": "markdown",
   "metadata": {},
   "source": [
    "This code uses the \"train_test_split\" function from 'scikit-learn' to split the data into training and testing sets.\n",
    "\n",
    "'X' and 'Y' are the input features and target variable, respectively, which were defined previously. \"test_size=0.2\" indicates that we want to reserve 20% of the data for testing, while using the remaining 80% for training.\n",
    "\n",
    "\"stratify=Y\" ensures that the classes are evenly represented in both the training and testing sets, as it preserves the same proportion of classes as the original dataset.\n",
    "\n",
    "\"random_state=2\" sets the seed for the random number generator to ensure reproducibility.\n",
    "\n",
    "The resulting variables X_train, X_test, Y_train, and Y_test contain the training and testing sets of input features and target variable, respectively."
   ]
  },
  {
   "cell_type": "code",
   "execution_count": 32,
   "metadata": {
    "id": "FrsqqwT0Y3n5"
   },
   "outputs": [],
   "source": [
    "X_train, X_test, Y_train, Y_test = train_test_split(X, Y, test_size=0.2, stratify=Y, random_state=2)"
   ]
  },
  {
   "cell_type": "markdown",
   "metadata": {},
   "source": [
    "# Verifying the split data for Training data & Testing Data"
   ]
  },
  {
   "cell_type": "markdown",
   "metadata": {},
   "source": [
    "This code helps to verify that the data was split correctly and that the dimensions of the training and testing sets match our expectations.\n",
    "\n",
    "In this code 'X' is the input features dataframe and 'Y' is the target variable series, this code prints the shapes of 'X', \"X_train\", and \"X_test\".\n",
    "\n",
    "\"X.shape\" returns the shape of the original input features dataframe, which should be a tuple containing the number of rows and columns in the dataframe. \n",
    "\n",
    "\"X_train.shape\" and \"X_test.shape\" should return tuples containing the number of rows and columns in the training and testing input features dataframes, respectively."
   ]
  },
  {
   "cell_type": "code",
   "execution_count": 33,
   "metadata": {
    "colab": {
     "base_uri": "https://localhost:8080/"
    },
    "id": "FUmwXz99ZuvK",
    "outputId": "40e85844-be6b-4f09-ba6b-acc16f107a54"
   },
   "outputs": [
    {
     "name": "stdout",
     "output_type": "stream",
     "text": [
      "(984, 30) (787, 30) (197, 30)\n"
     ]
    }
   ],
   "source": [
    "print(X.shape, X_train.shape, X_test.shape)"
   ]
  },
  {
   "cell_type": "code",
   "execution_count": 34,
   "metadata": {},
   "outputs": [],
   "source": [
    "#X_train.to_csv('Training_dataset.csv', index=False)"
   ]
  },
  {
   "cell_type": "code",
   "execution_count": 35,
   "metadata": {},
   "outputs": [],
   "source": [
    "#X_test.to_csv('Testing_dataset.csv', index=False)"
   ]
  },
  {
   "cell_type": "markdown",
   "metadata": {
    "id": "aowgjqbeZ7d1"
   },
   "source": [
    "# Logistic Regression"
   ]
  },
  {
   "cell_type": "markdown",
   "metadata": {
    "id": "i0NkjaxyZ96E"
   },
   "source": [
    "This code initializes a \"logistic regression\" classifier using the default hyperparameters. \n",
    "\n",
    "\"Logistic regression\" is a binary classification algorithm that uses a logistic function to model the probability of a binary outcome (e.g., the target variable takes one of two possible values). \n",
    "\n",
    "The \"logistic regression\" model learns a set of coefficients for each feature in the input data, which can be used to make predictions about the probability of the binary outcome for new data points.\n",
    "\n",
    "By default, The \"LogisticRegression()\" function in scikit-learn uses L2 regularization to prevent overfitting."
   ]
  },
  {
   "cell_type": "markdown",
   "metadata": {},
   "source": [
    "# Initializing the model and fitting the model to the training data "
   ]
  },
  {
   "cell_type": "markdown",
   "metadata": {},
   "source": [
    "This code creates a logistic regression classifier and fits the model into training data,\n",
    "\n",
    "In this code, it creates a logistic regression classifier using the \"LogisticRegression()\" function from 'scikit-learn', and sets the \"max_iter\" hyperparameter to 1000. \n",
    "\n",
    "The \"max_iter\" parameter controls the maximum number of iterations allowed for the solver to converge to a solution. If the solver has not converged after \"max_iter\" iterations, it will stop and return the best solution found so far.\n",
    "\n",
    "After initializing the model, the code then fits the model to the training data using the \"fit()\" method of the model object, which takes in the input and target data as arguments. \n",
    "\n",
    "The \"fit()\" method updates the coefficients of the logistic regression model to minimize the logistic loss function on the training data."
   ]
  },
  {
   "cell_type": "code",
   "execution_count": 36,
   "metadata": {
    "colab": {
     "base_uri": "https://localhost:8080/",
     "height": 74
    },
    "id": "_rshSouvaGrv",
    "outputId": "eb693850-3996-457c-ae57-70a56be0c02d"
   },
   "outputs": [
    {
     "data": {
      "text/plain": [
       "LogisticRegression(max_iter=1500)"
      ]
     },
     "execution_count": 36,
     "metadata": {},
     "output_type": "execute_result"
    }
   ],
   "source": [
    "model = LogisticRegression(max_iter=1500)\n",
    "model.fit(X_train, Y_train)\n"
   ]
  },
  {
   "cell_type": "code",
   "execution_count": 37,
   "metadata": {},
   "outputs": [
    {
     "data": {
      "text/plain": [
       "KNeighborsClassifier()"
      ]
     },
     "execution_count": 37,
     "metadata": {},
     "output_type": "execute_result"
    }
   ],
   "source": [
    "from sklearn.neighbors import KNeighborsClassifier\n",
    "\n",
    "knn= KNeighborsClassifier(n_neighbors=5)\n",
    "knn.fit(X_train, Y_train)"
   ]
  },
  {
   "cell_type": "code",
   "execution_count": 38,
   "metadata": {},
   "outputs": [
    {
     "data": {
      "text/plain": [
       "GaussianNB()"
      ]
     },
     "execution_count": 38,
     "metadata": {},
     "output_type": "execute_result"
    }
   ],
   "source": [
    "from sklearn.naive_bayes import GaussianNB\n",
    "\n",
    "nb = GaussianNB()\n",
    "nb.fit(X_train, Y_train)"
   ]
  },
  {
   "cell_type": "code",
   "execution_count": 39,
   "metadata": {},
   "outputs": [
    {
     "data": {
      "text/plain": [
       "SVC(C=1, kernel='linear')"
      ]
     },
     "execution_count": 39,
     "metadata": {},
     "output_type": "execute_result"
    }
   ],
   "source": [
    "from sklearn.svm import SVC\n",
    "\n",
    "svm = SVC(kernel=\"linear\", C=1)\n",
    "svm.fit(X_train, Y_train)"
   ]
  },
  {
   "cell_type": "markdown",
   "metadata": {
    "id": "H9FYWyKjalvC"
   },
   "source": [
    "# Model Evaluation based on Accuracy Score for the Training data"
   ]
  },
  {
   "cell_type": "markdown",
   "metadata": {
    "id": "O6O6kbwYaoxH"
   },
   "source": [
    "This code trains a logistic regression model on a given dataset, and then calculates the accuracy of the model's predictions on the training set.\n",
    "\n",
    "In this code, the logistic regression model is trained on the training set \"(X_train, Y_train)\" using the \"fit()\" method. Then, the model predicts the output values for the training set using the \"predict()\" method and stores them in \"X_train_prediction\".\n",
    "\n",
    "The accuracy of the model is then calculated using the \"accuracy_score()\" function, which takes the predicted values and the actual values of the output as input and returns the accuracy score. "
   ]
  },
  {
   "cell_type": "code",
   "execution_count": 40,
   "metadata": {
    "id": "pC2kCJhOaage"
   },
   "outputs": [
    {
     "name": "stdout",
     "output_type": "stream",
     "text": [
      "Accuracy of logistic regression :  0.9339263024142312\n"
     ]
    }
   ],
   "source": [
    "X_train_prediction = model.predict(X_train)\n",
    "accuracy_log = accuracy_score(X_train_prediction, Y_train)\n",
    "print('Accuracy of logistic regression : ', accuracy_log)"
   ]
  },
  {
   "cell_type": "code",
   "execution_count": 41,
   "metadata": {},
   "outputs": [
    {
     "name": "stdout",
     "output_type": "stream",
     "text": [
      "Accuracy o: 0.7496823379923762\n"
     ]
    }
   ],
   "source": [
    "X_pred_knn = knn.predict(X_train)\n",
    "accuracy_knn = accuracy_score(X_pred_knn, Y_train,)\n",
    "print(\"Accuracy o:\", accuracy_knn)"
   ]
  },
  {
   "cell_type": "code",
   "execution_count": 42,
   "metadata": {},
   "outputs": [
    {
     "name": "stdout",
     "output_type": "stream",
     "text": [
      "Accuracy of Naive Bayes : 0.8691232528589581\n"
     ]
    }
   ],
   "source": [
    "X_pred_nb = nb.predict(X_train)\n",
    "accuracy_nb = accuracy_score(X_pred_nb, Y_train)\n",
    "print(\"Accuracy of Naive Bayes :\", accuracy_nb)"
   ]
  },
  {
   "cell_type": "code",
   "execution_count": 43,
   "metadata": {},
   "outputs": [
    {
     "name": "stdout",
     "output_type": "stream",
     "text": [
      "Accuracy of SVM : 0.9008894536213469\n"
     ]
    }
   ],
   "source": [
    "X_pred_svm = svm.predict(X_train)\n",
    "accuracy_svm = accuracy_score(X_pred_svm, Y_train)\n",
    "print(\"Accuracy of SVM :\", accuracy_svm)"
   ]
  },
  {
   "cell_type": "markdown",
   "metadata": {},
   "source": [
    "# Countplot to compare Original Accuracy and Predicted Accuracy for the Training data"
   ]
  },
  {
   "cell_type": "markdown",
   "metadata": {},
   "source": [
    "This code creates a bar plot to compare the original accuracy and the predicted accuracy of the logistic regression model based on Training data.\n",
    "\n",
    "The bar plot is created using the \"matplotlib.pyplot\" module.\n",
    "\n",
    "The 'x' and 'y' variables contain the data to be plotted, and the colors variable specifies the colours of the bars.\n",
    "\n",
    "The \"plt.bar\" function creates the bar plot, and the \"plt.title\", \"plt.xlabel\", and \"plt.ylabel\" functions are used to set the plot title and axis labels.\n",
    "\n",
    "The for loop is used to display the accuracy values on top of each bar. Finally, the plot is displayed using the \"plt.show\" function."
   ]
  },
  {
   "cell_type": "code",
   "execution_count": 44,
   "metadata": {},
   "outputs": [
    {
     "data": {
      "image/png": "[encoded data removed]",
      "text/plain": [
       "<Figure size 432x288 with 1 Axes>"
      ]
     },
     "metadata": {
      "needs_background": "light"
     },
     "output_type": "display_data"
    }
   ],
   "source": [
    "import matplotlib.pyplot as plt\n",
    "\n",
    "# create data\n",
    "x = ['Log Reg','KNN','Naive Bayes','SVM',]\n",
    "y = [accuracy_log*100,accuracy_knn*100,accuracy_nb*100,accuracy_svm*100]\n",
    "colors = ['red','blue','blue','blue']\n",
    "\n",
    "# create bar plot\n",
    "plt.bar(x, y,color=colors)\n",
    "\n",
    "# set title and axis labels\n",
    "plt.title(\"Accuracies of models over Training Data\")\n",
    "plt.xlabel(\"Models\")\n",
    "plt.ylabel(\"Percentage\")\n",
    "\n",
    "for i, v in enumerate(y):\n",
    "    plt.text(i, v+0.01, str(round(v, 2)), ha='center')\n",
    "# display plot\n",
    "plt.show()\n"
   ]
  },
  {
   "cell_type": "markdown",
   "metadata": {},
   "source": [
    "# Model Evaluation based on Accuracy Score for the Testing data"
   ]
  },
  {
   "cell_type": "markdown",
   "metadata": {},
   "source": [
    "This code tests the data on a Trained logistic regression model , and then calculates the accuracy of the model's predictions on the test data.\n",
    "\n",
    "The code above is predicting the class labels for the test data using the trained logistic regression model, and then computing the accuracy score of the predicted labels against the actual labels of the test data.\n",
    "\n",
    "The predict method of the LogisticRegression object is called on \"X_test\" to get the predicted labels for the test data, which are then compared against the actual labels \"Y_test\" using the 'accuracy_score' function from the sklearn.metrics module.\n",
    "\n",
    "The computed accuracy score is then printed to the console. This provides a measure of how well the model is performing on new, unseen data."
   ]
  },
  {
   "cell_type": "code",
   "execution_count": 45,
   "metadata": {
    "colab": {
     "base_uri": "https://localhost:8080/",
     "height": 201
    },
    "id": "tryJUs6mbJM7",
    "outputId": "d3ed3a3c-57cb-4f19-fe60-16aa8f806a1a"
   },
   "outputs": [
    {
     "name": "stdout",
     "output_type": "stream",
     "text": [
      "Accuracy score on Test Data :  0.8984771573604061\n"
     ]
    }
   ],
   "source": [
    "X_test_prediction = model.predict(X_test)\n",
    "test_data_accuracy = accuracy_score(X_test_prediction, Y_test)\n",
    "print('Accuracy score on Test Data : ', test_data_accuracy)"
   ]
  },
  {
   "cell_type": "code",
   "execution_count": 46,
   "metadata": {},
   "outputs": [
    {
     "name": "stdout",
     "output_type": "stream",
     "text": [
      "Accuracy of KNN: 0.6446700507614214\n"
     ]
    }
   ],
   "source": [
    "X_test_knn = knn.predict(X_test)\n",
    "accuracy_test_knn = accuracy_score(X_test_knn, Y_test)\n",
    "print(\"Accuracy of KNN:\", accuracy_test_knn)"
   ]
  },
  {
   "cell_type": "code",
   "execution_count": 47,
   "metadata": {},
   "outputs": [
    {
     "name": "stdout",
     "output_type": "stream",
     "text": [
      "Accuracy of Naive Bayes : 0.8730964467005076\n"
     ]
    }
   ],
   "source": [
    "X_test_nb = nb.predict(X_test)\n",
    "accuracy_test_nb = accuracy_score(X_test_nb, Y_test)\n",
    "print(\"Accuracy of Naive Bayes :\", accuracy_test_nb)"
   ]
  },
  {
   "cell_type": "code",
   "execution_count": 48,
   "metadata": {},
   "outputs": [
    {
     "name": "stdout",
     "output_type": "stream",
     "text": [
      "Accuracy of SVM : 0.9035532994923858\n"
     ]
    }
   ],
   "source": [
    "X_test_svm = svm.predict(X_test)\n",
    "accuracy_test_svm = accuracy_score(X_test_svm, Y_test)\n",
    "print(\"Accuracy of SVM :\", accuracy_test_svm)"
   ]
  },
  {
   "cell_type": "code",
   "execution_count": 49,
   "metadata": {},
   "outputs": [
    {
     "data": {
      "image/png": "[encoded data removed]",
      "text/plain": [
       "<Figure size 432x288 with 1 Axes>"
      ]
     },
     "metadata": {
      "needs_background": "light"
     },
     "output_type": "display_data"
    }
   ],
   "source": [
    "import matplotlib.pyplot as plt\n",
    "\n",
    "# create data\n",
    "x = ['Log1','KNN1','NB1','SVM1']\n",
    "y = [test_data_accuracy*100,accuracy_test_knn*100,accuracy_test_nb*100,accuracy_test_svm*100]\n",
    "colors = ['red','blue','blue','blue']\n",
    "\n",
    "# create bar plot\n",
    "plt.bar(x, y,color=colors)\n",
    "\n",
    "# set title and axis labels\n",
    "plt.title(\"Accuracies of models over Testing Data\")\n",
    "plt.xlabel(\"Training & Testing Accuracy of Model\")\n",
    "plt.ylabel(\"Percentage\")\n",
    "\n",
    "for i, v in enumerate(y):\n",
    "    plt.text(i, v+0.01, str(round(v, 2)), ha='center')\n",
    "# display plot\n",
    "plt.show()\n"
   ]
  },
  {
   "cell_type": "code",
   "execution_count": 50,
   "metadata": {},
   "outputs": [
    {
     "data": {
      "image/png": "[encoded data removed]",
      "text/plain": [
       "<Figure size 432x288 with 1 Axes>"
      ]
     },
     "metadata": {
      "needs_background": "light"
     },
     "output_type": "display_data"
    }
   ],
   "source": [
    "import matplotlib.pyplot as plt\n",
    "\n",
    "# create data\n",
    "x = ['Training Data(70%)','Testing(30)']\n",
    "y = [accuracy_log*100,test_data_accuracy*100]\n",
    "colors = ['red','blue']\n",
    "\n",
    "# create bar plot\n",
    "plt.bar(x, y,color=colors)\n",
    "\n",
    "# set title and axis labels\n",
    "plt.title(\"Accuracy of Logistic Regression Model(Training vs Testing)\")\n",
    "plt.xlabel(\"Data sets\")\n",
    "plt.ylabel(\"Percentage\")\n",
    "\n",
    "for i, v in enumerate(y):\n",
    "    plt.text(i, v+0.01, str(round(v, 2)), ha='center')\n",
    "# display plot\n",
    "plt.show()\n"
   ]
  },
  {
   "cell_type": "code",
   "execution_count": 51,
   "metadata": {},
   "outputs": [
    {
     "data": {
      "image/png": "[encoded data removed]",
      "text/plain": [
       "<Figure size 432x288 with 1 Axes>"
      ]
     },
     "metadata": {
      "needs_background": "light"
     },
     "output_type": "display_data"
    }
   ],
   "source": [
    "import matplotlib.pyplot as plt\n",
    "\n",
    "# create data\n",
    "x = ['Training Data(70%)','Testing(30%)']\n",
    "y = [accuracy_knn*100,accuracy_test_knn*100]\n",
    "colors = ['red','blue']\n",
    "\n",
    "# create bar plot\n",
    "plt.bar(x, y,color=colors)\n",
    "\n",
    "# set title and axis labels\n",
    "plt.title(\"Accuracy of KNN Model(Training vs Testing)\")\n",
    "plt.xlabel(\"Data sets\")\n",
    "plt.ylabel(\"Percentage\")\n",
    "\n",
    "for i, v in enumerate(y):\n",
    "    plt.text(i, v+0.01, str(round(v, 2)), ha='center')\n",
    "# display plot\n",
    "plt.show()\n"
   ]
  },
  {
   "cell_type": "code",
   "execution_count": 52,
   "metadata": {},
   "outputs": [
    {
     "data": {
      "image/png": "[encoded data removed]",
      "text/plain": [
       "<Figure size 432x288 with 1 Axes>"
      ]
     },
     "metadata": {
      "needs_background": "light"
     },
     "output_type": "display_data"
    }
   ],
   "source": [
    "import matplotlib.pyplot as plt\n",
    "\n",
    "# create data\n",
    "x = ['Training Data(70%)','Testing(30%)']\n",
    "y = [accuracy_nb*100,accuracy_test_nb*100]\n",
    "colors = ['red','blue']\n",
    "\n",
    "# create bar plot\n",
    "plt.bar(x, y,color=colors)\n",
    "\n",
    "# set title and axis labels\n",
    "plt.title(\"Accuracy of Naive Bayes Model(Training vs Testing)\")\n",
    "plt.xlabel(\"Data sets\")\n",
    "plt.ylabel(\"Percentage\")\n",
    "\n",
    "for i, v in enumerate(y):\n",
    "    plt.text(i, v+0.01, str(round(v, 2)), ha='center')\n",
    "# display plot\n",
    "plt.show()\n"
   ]
  },
  {
   "cell_type": "code",
   "execution_count": 53,
   "metadata": {},
   "outputs": [
    {
     "data": {
      "image/png": "[encoded data removed]",
      "text/plain": [
       "<Figure size 432x288 with 1 Axes>"
      ]
     },
     "metadata": {
      "needs_background": "light"
     },
     "output_type": "display_data"
    }
   ],
   "source": [
    "import matplotlib.pyplot as plt\n",
    "\n",
    "# create data\n",
    "x = ['Training Data(70%)','Testing(30%)']\n",
    "y = [accuracy_svm*100,accuracy_test_svm*100]\n",
    "colors = ['red','blue']\n",
    "\n",
    "# create bar plot\n",
    "plt.bar(x, y,color=colors)\n",
    "\n",
    "# set title and axis labels\n",
    "plt.title(\"Accuracy of SVM Model(Training vs Testing)\")\n",
    "plt.xlabel(\"Data sets\")\n",
    "plt.ylabel(\"Percentage\")\n",
    "\n",
    "for i, v in enumerate(y):\n",
    "    plt.text(i, v+0.01, str(round(v, 2)), ha='center')\n",
    "# display plot\n",
    "plt.show()\n"
   ]
  },
  {
   "cell_type": "markdown",
   "metadata": {},
   "source": [
    "# Accuracies of several machine learning models over Training and Testing"
   ]
  },
  {
   "cell_type": "markdown",
   "metadata": {},
   "source": [
    "This code creates a bar plot showing the training and testing accuracies of several machine learning models.\n",
    "\n",
    "The x-axis displays the name of each model, while the y-axis shows the percentage accuracy of each model. The color of the bars corresponds to the type of model: red bars represent logistic regression, while blue bars represent k-Nearest Neighbors (KNN), Naive Bayes (NB), and Support Vector Machines (SVM).\n",
    "\n",
    "The height of each bar corresponds to the accuracy of the model, and the percentage value is displayed above each bar.\n",
    "\n",
    "Overall, the plot allows us to compare the performance of different machine learning models on the same dataset, and to see how well each model performs on both the training and testing data."
   ]
  },
  {
   "cell_type": "code",
   "execution_count": 54,
   "metadata": {},
   "outputs": [
    {
     "data": {
      "image/png": "[encoded data removed]",
      "text/plain": [
       "<Figure size 432x288 with 1 Axes>"
      ]
     },
     "metadata": {
      "needs_background": "light"
     },
     "output_type": "display_data"
    }
   ],
   "source": [
    "import matplotlib.pyplot as plt\n",
    "\n",
    "# create data\n",
    "x = ['Log1','Log2','KNN1','KNN2','NB1','NB2','SVM1','SVM2']\n",
    "y = [accuracy_log*100,test_data_accuracy*100,accuracy_knn*100,accuracy_test_knn*100,accuracy_nb*100,accuracy_test_nb*100,accuracy_svm*100,accuracy_test_svm*100]\n",
    "colors = ['red','red','blue','blue','blue','blue','blue','blue']\n",
    "\n",
    "# create bar plot\n",
    "plt.bar(x, y,color=colors)\n",
    "\n",
    "# set title and axis labels\n",
    "plt.title(\"Accuracies of models (Train vs Test)\")\n",
    "plt.xlabel(\"Training & Testing Accuracy of Model\")\n",
    "plt.ylabel(\"Percentage\")\n",
    "\n",
    "for i, v in enumerate(y):\n",
    "    plt.text(i, v+0.01, str(round(v, 2)), ha='center')\n",
    "# display plot\n",
    "plt.show()\n"
   ]
  },
  {
   "cell_type": "markdown",
   "metadata": {},
   "source": [
    "# ROC Curve of Logistic Regression Model \n",
    "\n",
    "ROC (Receiver Operating Characteristic) curve is a graphical representation of the performance of a binary classifier system, as its discrimination threshold is varied. The ROC curve is created by plotting the true positive rate (TPR) against the false positive rate (FPR) at various threshold setting\n",
    "\n",
    "A ROC curve with an AUC of 0.98 and a low FPR indicates that the model has excellent performance in distinguishing between positive and negative samples. The model's accuracy in predicting the positive class is high, and the proportion of false positives is relatively low.\n"
   ]
  },
  {
   "cell_type": "code",
   "execution_count": 55,
   "metadata": {},
   "outputs": [
    {
     "data": {
      "image/png": "[encoded data removed]",
      "text/plain": [
       "<Figure size 432x288 with 1 Axes>"
      ]
     },
     "metadata": {
      "needs_background": "light"
     },
     "output_type": "display_data"
    }
   ],
   "source": [
    "from sklearn.metrics import RocCurveDisplay, roc_auc_score\n",
    "import matplotlib.pyplot as plt\n",
    "\n",
    "# Assuming that you have trained a model and predicted probabilities for test data\n",
    "probas = model.predict_proba(X_test)\n",
    "y_true = Y_test\n",
    "\n",
    "# calculate AUC score\n",
    "auc_score = roc_auc_score(y_true, probas[:, 1])\n",
    "\n",
    "# create ROC curve display object\n",
    "roc_display = RocCurveDisplay.from_predictions(y_true, probas[:, 1])\n",
    "\n",
    "# plot ROC curve with AUC score in the legend\n",
    "#roc_display.plot()\n",
    "plt.title('ROC Curve (AUC = {:.2f})'.format(auc_score))\n",
    "plt.show()\n"
   ]
  },
  {
   "cell_type": "markdown",
   "metadata": {},
   "source": [
    "# Saving our model in Directory\n",
    "\n",
    "The code saves a machine learning model as a .pkl file using the joblib library's dump() function. The model is saved in the current working directory with the name \"fraud_detection_model.pkl\".\n",
    "\n",
    "The second line of code shows an example of specifying an additional parameter while saving the model. The \"compress=True\" parameter is used to enable compression of the .pkl file to save disk space. This can be useful for larger models that take up a lot of disk space."
   ]
  },
  {
   "cell_type": "code",
   "execution_count": 56,
   "metadata": {},
   "outputs": [
    {
     "data": {
      "text/plain": [
       "['fraud_detection_model.pkl']"
      ]
     },
     "execution_count": 56,
     "metadata": {},
     "output_type": "execute_result"
    }
   ],
   "source": [
    "import joblib\n",
    "# Save the model as a .pkl file\n",
    "joblib.dump(model, 'fraud_detection_model.pkl')\n",
    "\n",
    "# You can also specify additional parameters such as compressing the .pkl file to save disk space\n",
    "# For example, you can use 'compress' parameter with value True to enable compression\n",
    "joblib.dump(model, 'fraud_detection_model.pkl', compress=True)"
   ]
  },
  {
   "cell_type": "markdown",
   "metadata": {},
   "source": [
    "# Principal Component Analysis (PCA)\n",
    "\n",
    "In this code,\n",
    "\n",
    "A string input \"Revanth\" is defined and it is converted to a list of characters using the list() method.\n",
    "\n",
    "The list of characters is then one-hot encoded using the OneHotEncoder() method from the sklearn.preprocessing module. This converts each character to a binary feature vector where each position represents the presence or absence of a specific character.\n",
    "\n",
    "Principal Component Analysis (PCA) is applied to the resulting feature data using the PCA() method from the sklearn.decomposition module. This reduces the dimensionality of the feature data by finding a single principal component that captures most of the variance in the data. And The resulting principal component is printed to the console."
   ]
  },
  {
   "cell_type": "code",
   "execution_count": 57,
   "metadata": {},
   "outputs": [
    {
     "name": "stdout",
     "output_type": "stream",
     "text": [
      "[-1.33630614e-16]\n"
     ]
    }
   ],
   "source": [
    "import numpy as np\n",
    "from sklearn.decomposition import PCA\n",
    "from sklearn.preprocessing import OneHotEncoder\n",
    "\n",
    "# Define the input string\n",
    "input_string = 'Revanth'\n",
    "\n",
    "# Convert the string to a list of characters\n",
    "char_list = list(input_string)\n",
    "\n",
    "# Convert the list of characters to a 2D array of binary features using one-hot encoding\n",
    "encoder = OneHotEncoder(categories='auto', sparse=False)\n",
    "features = encoder.fit_transform(np.array(char_list).reshape(-1, 1))\n",
    "\n",
    "# Apply PCA to the feature data and extract a single principal component\n",
    "pca = PCA(n_components=1, svd_solver='full')\n",
    "principal_component = pca.fit_transform(features)\n",
    "\n",
    "# Print the principal component\n",
    "print(principal_component[0])\n"
   ]
  },
  {
   "cell_type": "code",
   "execution_count": null,
   "metadata": {},
   "outputs": [],
   "source": []
  },
  {
   "cell_type": "code",
   "execution_count": null,
   "metadata": {},
   "outputs": [],
   "source": []
  },
  {
   "cell_type": "code",
   "execution_count": null,
   "metadata": {},
   "outputs": [],
   "source": []
  },
  {
   "cell_type": "code",
   "execution_count": null,
   "metadata": {},
   "outputs": [],
   "source": []
  }
 ],
 "metadata": {
  "colab": {
   "provenance": []
  },
  "kernelspec": {
   "display_name": "Python 3 (ipykernel)",
   "language": "python",
   "name": "python3"
  },
  "language_info": {
   "codemirror_mode": {
    "name": "ipython",
    "version": 3
   },
   "file_extension": ".py",
   "mimetype": "text/x-python",
   "name": "python",
   "nbconvert_exporter": "python",
   "pygments_lexer": "ipython3",
   "version": "3.9.12"
  }
 },
 "nbformat": 4,
 "nbformat_minor": 1
}
